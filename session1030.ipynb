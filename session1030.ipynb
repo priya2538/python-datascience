{
 "cells": [
  {
   "cell_type": "code",
   "execution_count": 96,
   "id": "4b85160f",
   "metadata": {},
   "outputs": [],
   "source": [
    "a = \"True\",90887,9.76,66565"
   ]
  },
  {
   "cell_type": "code",
   "execution_count": 97,
   "id": "0f263ae8",
   "metadata": {},
   "outputs": [
    {
     "name": "stdout",
     "output_type": "stream",
     "text": [
      "('True', 90887, 9.76, 66565) <class 'tuple'>\n"
     ]
    }
   ],
   "source": [
    "print(a,type(a))"
   ]
  },
  {
   "cell_type": "code",
   "execution_count": 98,
   "id": "7603b718",
   "metadata": {},
   "outputs": [
    {
     "data": {
      "text/plain": [
       "7"
      ]
     },
     "execution_count": 98,
     "metadata": {},
     "output_type": "execute_result"
    }
   ],
   "source": [
    "0b111"
   ]
  },
  {
   "cell_type": "code",
   "execution_count": 99,
   "id": "943a13af",
   "metadata": {},
   "outputs": [
    {
     "data": {
      "text/plain": [
       "375"
      ]
     },
     "execution_count": 99,
     "metadata": {},
     "output_type": "execute_result"
    }
   ],
   "source": [
    "0O567"
   ]
  },
  {
   "cell_type": "code",
   "execution_count": 100,
   "id": "fee09c23",
   "metadata": {},
   "outputs": [
    {
     "data": {
      "text/plain": [
       "('True', 90887, 9.76, 66565)"
      ]
     },
     "execution_count": 100,
     "metadata": {},
     "output_type": "execute_result"
    }
   ],
   "source": [
    "a"
   ]
  },
  {
   "cell_type": "code",
   "execution_count": 101,
   "id": "dff1aa3e",
   "metadata": {},
   "outputs": [
    {
     "name": "stdout",
     "output_type": "stream",
     "text": [
      "6766\n"
     ]
    }
   ],
   "source": [
    "print(6766)"
   ]
  },
  {
   "cell_type": "code",
   "execution_count": 102,
   "id": "76c5b5f0",
   "metadata": {},
   "outputs": [],
   "source": [
    "a = 6766"
   ]
  },
  {
   "cell_type": "code",
   "execution_count": 103,
   "id": "f6108831",
   "metadata": {},
   "outputs": [
    {
     "data": {
      "text/plain": [
       "6766"
      ]
     },
     "execution_count": 103,
     "metadata": {},
     "output_type": "execute_result"
    }
   ],
   "source": [
    "a"
   ]
  },
  {
   "cell_type": "code",
   "execution_count": 104,
   "id": "9ef1ec8d",
   "metadata": {},
   "outputs": [
    {
     "data": {
      "text/plain": [
       "6766"
      ]
     },
     "execution_count": 104,
     "metadata": {},
     "output_type": "execute_result"
    }
   ],
   "source": [
    "a"
   ]
  },
  {
   "cell_type": "code",
   "execution_count": 105,
   "id": "21ed047b",
   "metadata": {},
   "outputs": [
    {
     "data": {
      "text/plain": [
       "6766"
      ]
     },
     "execution_count": 105,
     "metadata": {},
     "output_type": "execute_result"
    }
   ],
   "source": [
    "a"
   ]
  },
  {
   "cell_type": "code",
   "execution_count": 106,
   "id": "5b710195",
   "metadata": {},
   "outputs": [
    {
     "data": {
      "text/plain": [
       "6766"
      ]
     },
     "execution_count": 106,
     "metadata": {},
     "output_type": "execute_result"
    }
   ],
   "source": [
    "a"
   ]
  },
  {
   "cell_type": "code",
   "execution_count": 107,
   "id": "2b2bb955",
   "metadata": {},
   "outputs": [],
   "source": [
    "a = 6"
   ]
  },
  {
   "cell_type": "code",
   "execution_count": 108,
   "id": "e5f91efe",
   "metadata": {},
   "outputs": [],
   "source": [
    "a = \"Karan\""
   ]
  },
  {
   "cell_type": "code",
   "execution_count": 109,
   "id": "18446e43",
   "metadata": {},
   "outputs": [
    {
     "data": {
      "text/plain": [
       "'Karan'"
      ]
     },
     "execution_count": 109,
     "metadata": {},
     "output_type": "execute_result"
    }
   ],
   "source": [
    "a"
   ]
  },
  {
   "cell_type": "code",
   "execution_count": 110,
   "id": "ebd1470c",
   "metadata": {},
   "outputs": [],
   "source": [
    "N = 8"
   ]
  },
  {
   "cell_type": "code",
   "execution_count": 111,
   "id": "8f31e146",
   "metadata": {},
   "outputs": [
    {
     "ename": "NameError",
     "evalue": "name 'A' is not defined",
     "output_type": "error",
     "traceback": [
      "\u001b[1;31m---------------------------------------------------------------------------\u001b[0m",
      "\u001b[1;31mNameError\u001b[0m                                 Traceback (most recent call last)",
      "Cell \u001b[1;32mIn[111], line 1\u001b[0m\n\u001b[1;32m----> 1\u001b[0m A\n",
      "\u001b[1;31mNameError\u001b[0m: name 'A' is not defined"
     ]
    }
   ],
   "source": [
    "A"
   ]
  },
  {
   "cell_type": "code",
   "execution_count": null,
   "id": "8f96c732",
   "metadata": {},
   "outputs": [],
   "source": [
    "usggdbkdbkdkdbkdbkdb = 9889\n"
   ]
  },
  {
   "cell_type": "code",
   "execution_count": null,
   "id": "789d18a8",
   "metadata": {},
   "outputs": [],
   "source": [
    "_2652625625 = 90"
   ]
  },
  {
   "cell_type": "code",
   "execution_count": null,
   "id": "8c3c31e2",
   "metadata": {},
   "outputs": [],
   "source": [
    "_avhsvsv = 8"
   ]
  },
  {
   "cell_type": "code",
   "execution_count": null,
   "id": "8f8b71c0",
   "metadata": {},
   "outputs": [],
   "source": [
    "0absbsjbs = 90"
   ]
  },
  {
   "cell_type": "code",
   "execution_count": null,
   "id": "587f442b",
   "metadata": {},
   "outputs": [],
   "source": [
    "abc% = 89"
   ]
  },
  {
   "cell_type": "code",
   "execution_count": 112,
   "id": "3ac7a902",
   "metadata": {},
   "outputs": [],
   "source": [
    "_76 = \"iojo\""
   ]
  },
  {
   "cell_type": "code",
   "execution_count": 113,
   "id": "f2d4addd",
   "metadata": {},
   "outputs": [],
   "source": [
    "_1_1_ = 89"
   ]
  },
  {
   "cell_type": "code",
   "execution_count": 114,
   "id": "f3dff98e",
   "metadata": {},
   "outputs": [],
   "source": [
    "_____=9"
   ]
  },
  {
   "cell_type": "code",
   "execution_count": 115,
   "id": "1a639415",
   "metadata": {},
   "outputs": [],
   "source": [
    "a = 10"
   ]
  },
  {
   "cell_type": "code",
   "execution_count": 116,
   "id": "f7da51dd",
   "metadata": {},
   "outputs": [
    {
     "data": {
      "text/plain": [
       "10"
      ]
     },
     "execution_count": 116,
     "metadata": {},
     "output_type": "execute_result"
    }
   ],
   "source": [
    "a"
   ]
  },
  {
   "cell_type": "code",
   "execution_count": 117,
   "id": "f0f7af8f",
   "metadata": {},
   "outputs": [],
   "source": [
    "a = \"GHJK\""
   ]
  },
  {
   "cell_type": "code",
   "execution_count": 118,
   "id": "3fc7fe56",
   "metadata": {},
   "outputs": [
    {
     "data": {
      "text/plain": [
       "'GHJK'"
      ]
     },
     "execution_count": 118,
     "metadata": {},
     "output_type": "execute_result"
    }
   ],
   "source": [
    "a"
   ]
  },
  {
   "cell_type": "code",
   "execution_count": 119,
   "id": "006ece70",
   "metadata": {},
   "outputs": [],
   "source": [
    "a = 100\n",
    "b = 200"
   ]
  },
  {
   "cell_type": "code",
   "execution_count": 120,
   "id": "fae234e5",
   "metadata": {},
   "outputs": [],
   "source": [
    "c = a+b"
   ]
  },
  {
   "cell_type": "code",
   "execution_count": 121,
   "id": "4f0cf5a1",
   "metadata": {},
   "outputs": [
    {
     "name": "stdout",
     "output_type": "stream",
     "text": [
      "300 <class 'int'>\n"
     ]
    }
   ],
   "source": [
    "print(c,type(c))"
   ]
  },
  {
   "cell_type": "code",
   "execution_count": 122,
   "id": "19f971cd",
   "metadata": {},
   "outputs": [],
   "source": [
    "a = 7+9"
   ]
  },
  {
   "cell_type": "code",
   "execution_count": 123,
   "id": "45540fc1",
   "metadata": {},
   "outputs": [
    {
     "name": "stdout",
     "output_type": "stream",
     "text": [
      "16 <class 'int'>\n"
     ]
    }
   ],
   "source": [
    "print(a,type(a))"
   ]
  },
  {
   "cell_type": "code",
   "execution_count": 124,
   "id": "84e62814",
   "metadata": {},
   "outputs": [
    {
     "data": {
      "text/plain": [
       "5"
      ]
     },
     "execution_count": 124,
     "metadata": {},
     "output_type": "execute_result"
    }
   ],
   "source": [
    "0B101"
   ]
  },
  {
   "cell_type": "code",
   "execution_count": 125,
   "id": "5b37058c",
   "metadata": {},
   "outputs": [
    {
     "data": {
      "text/plain": [
       "'0b111000'"
      ]
     },
     "execution_count": 125,
     "metadata": {},
     "output_type": "execute_result"
    }
   ],
   "source": [
    "bin(56)"
   ]
  },
  {
   "cell_type": "code",
   "execution_count": 126,
   "id": "5daf5b49",
   "metadata": {},
   "outputs": [
    {
     "data": {
      "text/plain": [
       "'0b11100010'"
      ]
     },
     "execution_count": 126,
     "metadata": {},
     "output_type": "execute_result"
    }
   ],
   "source": [
    "bin(226)"
   ]
  },
  {
   "cell_type": "code",
   "execution_count": 127,
   "id": "7d22a6b2",
   "metadata": {},
   "outputs": [
    {
     "data": {
      "text/plain": [
       "86"
      ]
     },
     "execution_count": 127,
     "metadata": {},
     "output_type": "execute_result"
    }
   ],
   "source": [
    "0b1010110"
   ]
  },
  {
   "cell_type": "code",
   "execution_count": 128,
   "id": "35cdf5fb",
   "metadata": {},
   "outputs": [
    {
     "data": {
      "text/plain": [
       "11"
      ]
     },
     "execution_count": 128,
     "metadata": {},
     "output_type": "execute_result"
    }
   ],
   "source": [
    "0b1011"
   ]
  },
  {
   "cell_type": "code",
   "execution_count": 129,
   "id": "59fe521f",
   "metadata": {},
   "outputs": [
    {
     "data": {
      "text/plain": [
       "46"
      ]
     },
     "execution_count": 129,
     "metadata": {},
     "output_type": "execute_result"
    }
   ],
   "source": [
    "0o56"
   ]
  },
  {
   "cell_type": "code",
   "execution_count": 130,
   "id": "23049180",
   "metadata": {},
   "outputs": [
    {
     "data": {
      "text/plain": [
       "'0o42'"
      ]
     },
     "execution_count": 130,
     "metadata": {},
     "output_type": "execute_result"
    }
   ],
   "source": [
    "oct(34)"
   ]
  },
  {
   "cell_type": "code",
   "execution_count": 131,
   "id": "568ee6c1",
   "metadata": {},
   "outputs": [
    {
     "data": {
      "text/plain": [
       "'0b101010'"
      ]
     },
     "execution_count": 131,
     "metadata": {},
     "output_type": "execute_result"
    }
   ],
   "source": [
    "bin(42)"
   ]
  },
  {
   "cell_type": "code",
   "execution_count": 132,
   "id": "28dbe969",
   "metadata": {},
   "outputs": [
    {
     "ename": "SyntaxError",
     "evalue": "invalid digit '8' in octal literal (3353788640.py, line 1)",
     "output_type": "error",
     "traceback": [
      "\u001b[1;36m  Cell \u001b[1;32mIn[132], line 1\u001b[1;36m\u001b[0m\n\u001b[1;33m    0O478\u001b[0m\n\u001b[1;37m        ^\u001b[0m\n\u001b[1;31mSyntaxError\u001b[0m\u001b[1;31m:\u001b[0m invalid digit '8' in octal literal\n"
     ]
    }
   ],
   "source": [
    "0O478"
   ]
  },
  {
   "cell_type": "code",
   "execution_count": null,
   "id": "bb9d2243",
   "metadata": {},
   "outputs": [],
   "source": [
    "0xAd"
   ]
  },
  {
   "cell_type": "code",
   "execution_count": null,
   "id": "c761b90b",
   "metadata": {},
   "outputs": [],
   "source": [
    "hex(23)"
   ]
  },
  {
   "cell_type": "code",
   "execution_count": 133,
   "id": "42985c2a",
   "metadata": {},
   "outputs": [
    {
     "ename": "SyntaxError",
     "evalue": "cannot assign to expression (393711650.py, line 1)",
     "output_type": "error",
     "traceback": [
      "\u001b[1;36m  Cell \u001b[1;32mIn[133], line 1\u001b[1;36m\u001b[0m\n\u001b[1;33m    a = 2+7j+9j=9+9-5+7j-45j\u001b[0m\n\u001b[1;37m        ^\u001b[0m\n\u001b[1;31mSyntaxError\u001b[0m\u001b[1;31m:\u001b[0m cannot assign to expression\n"
     ]
    }
   ],
   "source": [
    "a = 2+7j+9j=9+9-5+7j-45j\n",
    "print(a,type(a))"
   ]
  },
  {
   "cell_type": "code",
   "execution_count": null,
   "id": "ca3d92a0",
   "metadata": {},
   "outputs": [],
   "source": [
    "a.real-a.imag"
   ]
  },
  {
   "cell_type": "code",
   "execution_count": 134,
   "id": "7e51817e",
   "metadata": {},
   "outputs": [
    {
     "data": {
      "text/plain": [
       "16"
      ]
     },
     "execution_count": 134,
     "metadata": {},
     "output_type": "execute_result"
    }
   ],
   "source": [
    "a"
   ]
  },
  {
   "cell_type": "code",
   "execution_count": null,
   "id": "f63e5dff",
   "metadata": {},
   "outputs": [],
   "source": []
  },
  {
   "cell_type": "code",
   "execution_count": 135,
   "id": "8183c303",
   "metadata": {},
   "outputs": [
    {
     "data": {
      "text/plain": [
       "int"
      ]
     },
     "execution_count": 135,
     "metadata": {},
     "output_type": "execute_result"
    }
   ],
   "source": [
    "type(a.real)"
   ]
  },
  {
   "cell_type": "code",
   "execution_count": 136,
   "id": "bbc955ad",
   "metadata": {},
   "outputs": [
    {
     "data": {
      "text/plain": [
       "0"
      ]
     },
     "execution_count": 136,
     "metadata": {},
     "output_type": "execute_result"
    }
   ],
   "source": [
    "a.imag"
   ]
  },
  {
   "cell_type": "code",
   "execution_count": null,
   "id": "669f8cb9",
   "metadata": {},
   "outputs": [],
   "source": []
  },
  {
   "cell_type": "code",
   "execution_count": null,
   "id": "bf57ec47",
   "metadata": {},
   "outputs": [],
   "source": []
  },
  {
   "cell_type": "code",
   "execution_count": null,
   "id": "afd81f4e",
   "metadata": {},
   "outputs": [],
   "source": []
  },
  {
   "cell_type": "code",
   "execution_count": null,
   "id": "f16324a9",
   "metadata": {},
   "outputs": [],
   "source": []
  },
  {
   "cell_type": "code",
   "execution_count": null,
   "id": "61883c68",
   "metadata": {},
   "outputs": [],
   "source": []
  },
  {
   "cell_type": "code",
   "execution_count": null,
   "id": "e4564f7e",
   "metadata": {},
   "outputs": [],
   "source": []
  },
  {
   "cell_type": "code",
   "execution_count": null,
   "id": "077282c4",
   "metadata": {},
   "outputs": [],
   "source": []
  },
  {
   "cell_type": "code",
   "execution_count": 137,
   "id": "8ca7db4d",
   "metadata": {},
   "outputs": [
    {
     "data": {
      "text/plain": [
       "(-3-22j)"
      ]
     },
     "execution_count": 137,
     "metadata": {},
     "output_type": "execute_result"
    }
   ],
   "source": [
    "a = 2+7j+9j-9+9-5+7j-45j\n",
    "a"
   ]
  },
  {
   "cell_type": "code",
   "execution_count": 138,
   "id": "fa551944",
   "metadata": {},
   "outputs": [
    {
     "data": {
      "text/plain": [
       "19.0"
      ]
     },
     "execution_count": 138,
     "metadata": {},
     "output_type": "execute_result"
    }
   ],
   "source": [
    "a.real-a.imag"
   ]
  },
  {
   "cell_type": "code",
   "execution_count": 139,
   "id": "f242df7b",
   "metadata": {},
   "outputs": [
    {
     "ename": "IndexError",
     "evalue": "string index out of range",
     "output_type": "error",
     "traceback": [
      "\u001b[1;31m---------------------------------------------------------------------------\u001b[0m",
      "\u001b[1;31mIndexError\u001b[0m                                Traceback (most recent call last)",
      "Cell \u001b[1;32mIn[139], line 2\u001b[0m\n\u001b[0;32m      1\u001b[0m a \u001b[38;5;241m=\u001b[39m  \u001b[38;5;124m\"\u001b[39m\u001b[38;5;124mBytes\u001b[39m\u001b[38;5;124m\"\u001b[39m\n\u001b[1;32m----> 2\u001b[0m a[\u001b[38;5;241m-\u001b[39m\u001b[38;5;241m6\u001b[39m]\n",
      "\u001b[1;31mIndexError\u001b[0m: string index out of range"
     ]
    }
   ],
   "source": [
    "a =  \"Bytes\"\n",
    "a[-6]"
   ]
  },
  {
   "cell_type": "code",
   "execution_count": null,
   "id": "0cc2cb1b",
   "metadata": {},
   "outputs": [],
   "source": [
    "print(a,type(a))"
   ]
  },
  {
   "cell_type": "code",
   "execution_count": null,
   "id": "e038f956",
   "metadata": {},
   "outputs": [],
   "source": [
    "a[4]"
   ]
  },
  {
   "cell_type": "code",
   "execution_count": null,
   "id": "1d5ac4d3",
   "metadata": {},
   "outputs": [],
   "source": [
    "a[-3]"
   ]
  },
  {
   "cell_type": "code",
   "execution_count": null,
   "id": "35e922b6",
   "metadata": {},
   "outputs": [],
   "source": [
    "a[-3-6+9+2]"
   ]
  },
  {
   "cell_type": "code",
   "execution_count": 140,
   "id": "f99a4c77",
   "metadata": {},
   "outputs": [],
   "source": [
    "a = \"Atharv Butala\""
   ]
  },
  {
   "cell_type": "code",
   "execution_count": 141,
   "id": "c75ea161",
   "metadata": {},
   "outputs": [
    {
     "data": {
      "text/plain": [
       "'u'"
      ]
     },
     "execution_count": 141,
     "metadata": {},
     "output_type": "execute_result"
    }
   ],
   "source": [
    "a[-5]"
   ]
  },
  {
   "cell_type": "code",
   "execution_count": 142,
   "id": "f751e425",
   "metadata": {},
   "outputs": [
    {
     "data": {
      "text/plain": [
       "'a'"
      ]
     },
     "execution_count": 142,
     "metadata": {},
     "output_type": "execute_result"
    }
   ],
   "source": [
    "a[-1]"
   ]
  },
  {
   "cell_type": "code",
   "execution_count": 143,
   "id": "3b20aee5",
   "metadata": {},
   "outputs": [
    {
     "data": {
      "text/plain": [
       "'a'"
      ]
     },
     "execution_count": 143,
     "metadata": {},
     "output_type": "execute_result"
    }
   ],
   "source": [
    "a[-4-6-10+3*5+2]"
   ]
  },
  {
   "cell_type": "code",
   "execution_count": 144,
   "id": "c12d0239",
   "metadata": {},
   "outputs": [
    {
     "data": {
      "text/plain": [
       "'a'"
      ]
     },
     "execution_count": 144,
     "metadata": {},
     "output_type": "execute_result"
    }
   ],
   "source": [
    "a[3]"
   ]
  },
  {
   "cell_type": "code",
   "execution_count": 145,
   "id": "fbf537ed",
   "metadata": {},
   "outputs": [],
   "source": [
    "a = \"Manhattan\""
   ]
  },
  {
   "cell_type": "code",
   "execution_count": 146,
   "id": "2621afd0",
   "metadata": {},
   "outputs": [
    {
     "data": {
      "text/plain": [
       "'Manha'"
      ]
     },
     "execution_count": 146,
     "metadata": {},
     "output_type": "execute_result"
    }
   ],
   "source": [
    "a[:5]"
   ]
  },
  {
   "cell_type": "code",
   "execution_count": 147,
   "id": "49f41ee3",
   "metadata": {},
   "outputs": [
    {
     "data": {
      "text/plain": [
       "'Manhat'"
      ]
     },
     "execution_count": 147,
     "metadata": {},
     "output_type": "execute_result"
    }
   ],
   "source": [
    "a[:-3]"
   ]
  },
  {
   "cell_type": "code",
   "execution_count": 148,
   "id": "4694da55",
   "metadata": {},
   "outputs": [
    {
     "data": {
      "text/plain": [
       "'nhattan'"
      ]
     },
     "execution_count": 148,
     "metadata": {},
     "output_type": "execute_result"
    }
   ],
   "source": [
    "a[-7:]"
   ]
  },
  {
   "cell_type": "code",
   "execution_count": 149,
   "id": "a270d207",
   "metadata": {},
   "outputs": [],
   "source": [
    "a= \"Manhattan\""
   ]
  },
  {
   "cell_type": "code",
   "execution_count": 150,
   "id": "c46ca89c",
   "metadata": {},
   "outputs": [
    {
     "data": {
      "text/plain": [
       "'Mna'"
      ]
     },
     "execution_count": 150,
     "metadata": {},
     "output_type": "execute_result"
    }
   ],
   "source": [
    "a[0:6:2]"
   ]
  },
  {
   "cell_type": "code",
   "execution_count": 151,
   "id": "0c488f65",
   "metadata": {},
   "outputs": [
    {
     "data": {
      "text/plain": [
       "'Mht'"
      ]
     },
     "execution_count": 151,
     "metadata": {},
     "output_type": "execute_result"
    }
   ],
   "source": [
    "a[0:8:3]"
   ]
  },
  {
   "cell_type": "code",
   "execution_count": 152,
   "id": "78949cc3",
   "metadata": {},
   "outputs": [
    {
     "data": {
      "text/plain": [
       "'nattahnaM'"
      ]
     },
     "execution_count": 152,
     "metadata": {},
     "output_type": "execute_result"
    }
   ],
   "source": [
    "a[::-1]"
   ]
  },
  {
   "cell_type": "code",
   "execution_count": 153,
   "id": "34a3fe06",
   "metadata": {},
   "outputs": [],
   "source": [
    "a= \"Manhattan\""
   ]
  },
  {
   "cell_type": "code",
   "execution_count": 154,
   "id": "c0bac4b5",
   "metadata": {},
   "outputs": [
    {
     "data": {
      "text/plain": [
       "'nattah'"
      ]
     },
     "execution_count": 154,
     "metadata": {},
     "output_type": "execute_result"
    }
   ],
   "source": [
    "a[8:2:-1]"
   ]
  },
  {
   "cell_type": "code",
   "execution_count": 155,
   "id": "db98915a",
   "metadata": {},
   "outputs": [],
   "source": [
    "a= \"Anamay Patil\""
   ]
  },
  {
   "cell_type": "code",
   "execution_count": 156,
   "id": "f02864ad",
   "metadata": {},
   "outputs": [
    {
     "data": {
      "text/plain": [
       "'ty'"
      ]
     },
     "execution_count": 156,
     "metadata": {},
     "output_type": "execute_result"
    }
   ],
   "source": [
    "a[9:3:-4]"
   ]
  },
  {
   "cell_type": "code",
   "execution_count": 157,
   "id": "ee9ea6f2",
   "metadata": {},
   "outputs": [
    {
     "data": {
      "text/plain": [
       "'ia aaA'"
      ]
     },
     "execution_count": 157,
     "metadata": {},
     "output_type": "execute_result"
    }
   ],
   "source": [
    "a[-2:-29:-2]"
   ]
  },
  {
   "cell_type": "code",
   "execution_count": 158,
   "id": "c3b5ca0b",
   "metadata": {},
   "outputs": [],
   "source": [
    "a = 10+7"
   ]
  },
  {
   "cell_type": "code",
   "execution_count": 159,
   "id": "f66a3038",
   "metadata": {},
   "outputs": [
    {
     "data": {
      "text/plain": [
       "17"
      ]
     },
     "execution_count": 159,
     "metadata": {},
     "output_type": "execute_result"
    }
   ],
   "source": [
    "a"
   ]
  },
  {
   "cell_type": "code",
   "execution_count": 160,
   "id": "a90ccb63",
   "metadata": {},
   "outputs": [],
   "source": [
    "a = 1.9"
   ]
  },
  {
   "cell_type": "code",
   "execution_count": 161,
   "id": "802dad81",
   "metadata": {},
   "outputs": [
    {
     "name": "stdout",
     "output_type": "stream",
     "text": [
      "1.9 <class 'float'>\n"
     ]
    }
   ],
   "source": [
    "print(a,type(a))"
   ]
  },
  {
   "cell_type": "code",
   "execution_count": 162,
   "id": "cf10eb38",
   "metadata": {},
   "outputs": [
    {
     "data": {
      "text/plain": [
       "21"
      ]
     },
     "execution_count": 162,
     "metadata": {},
     "output_type": "execute_result"
    }
   ],
   "source": [
    "0b10101"
   ]
  },
  {
   "cell_type": "code",
   "execution_count": 163,
   "id": "aeb6d93a",
   "metadata": {},
   "outputs": [
    {
     "name": "stdout",
     "output_type": "stream",
     "text": [
      "4 5 7.0 jkl True\n"
     ]
    }
   ],
   "source": [
    "print (4,5,7.0,\"jkl\",True)"
   ]
  },
  {
   "cell_type": "code",
   "execution_count": 164,
   "id": "1b9264df",
   "metadata": {},
   "outputs": [],
   "source": [
    "a = (4,5,7.0,\"jkl\",True)"
   ]
  },
  {
   "cell_type": "code",
   "execution_count": 165,
   "id": "a177d27a",
   "metadata": {},
   "outputs": [
    {
     "data": {
      "text/plain": [
       "(4, 5, 7.0, 'jkl', True)"
      ]
     },
     "execution_count": 165,
     "metadata": {},
     "output_type": "execute_result"
    }
   ],
   "source": [
    "a"
   ]
  },
  {
   "cell_type": "code",
   "execution_count": 166,
   "id": "8a749c58",
   "metadata": {},
   "outputs": [],
   "source": [
    "a = 8"
   ]
  },
  {
   "cell_type": "code",
   "execution_count": 167,
   "id": "8f4599e0",
   "metadata": {},
   "outputs": [
    {
     "data": {
      "text/plain": [
       "8"
      ]
     },
     "execution_count": 167,
     "metadata": {},
     "output_type": "execute_result"
    }
   ],
   "source": [
    "a"
   ]
  },
  {
   "cell_type": "code",
   "execution_count": 168,
   "id": "a7e7c184",
   "metadata": {},
   "outputs": [
    {
     "ename": "SyntaxError",
     "evalue": "cannot assign to literal here. Maybe you meant '==' instead of '='? (695323208.py, line 1)",
     "output_type": "error",
     "traceback": [
      "\u001b[1;36m  Cell \u001b[1;32mIn[168], line 1\u001b[1;36m\u001b[0m\n\u001b[1;33m    9 =56\u001b[0m\n\u001b[1;37m    ^\u001b[0m\n\u001b[1;31mSyntaxError\u001b[0m\u001b[1;31m:\u001b[0m cannot assign to literal here. Maybe you meant '==' instead of '='?\n"
     ]
    }
   ],
   "source": [
    "9 =56"
   ]
  },
  {
   "cell_type": "code",
   "execution_count": 169,
   "id": "e7f349bd",
   "metadata": {},
   "outputs": [
    {
     "data": {
      "text/plain": [
       "8"
      ]
     },
     "execution_count": 169,
     "metadata": {},
     "output_type": "execute_result"
    }
   ],
   "source": [
    "a"
   ]
  },
  {
   "cell_type": "code",
   "execution_count": 170,
   "id": "a054e62d",
   "metadata": {},
   "outputs": [
    {
     "ename": "NameError",
     "evalue": "name 'A' is not defined",
     "output_type": "error",
     "traceback": [
      "\u001b[1;31m---------------------------------------------------------------------------\u001b[0m",
      "\u001b[1;31mNameError\u001b[0m                                 Traceback (most recent call last)",
      "Cell \u001b[1;32mIn[170], line 1\u001b[0m\n\u001b[1;32m----> 1\u001b[0m A\n",
      "\u001b[1;31mNameError\u001b[0m: name 'A' is not defined"
     ]
    }
   ],
   "source": [
    "A"
   ]
  },
  {
   "cell_type": "code",
   "execution_count": null,
   "id": "e2e7f06d",
   "metadata": {},
   "outputs": [],
   "source": [
    "abbsjbdjvdhvdjgvdjvdjvdhjdjgdjbdj = 9"
   ]
  },
  {
   "cell_type": "code",
   "execution_count": null,
   "id": "c2bd89fe",
   "metadata": {},
   "outputs": [],
   "source": [
    "_132425 = 90"
   ]
  },
  {
   "cell_type": "code",
   "execution_count": null,
   "id": "e41a766f",
   "metadata": {},
   "outputs": [],
   "source": [
    "3393_jfh"
   ]
  },
  {
   "cell_type": "code",
   "execution_count": null,
   "id": "61e340c7",
   "metadata": {},
   "outputs": [],
   "source": [
    "jbhjdj = 90"
   ]
  },
  {
   "cell_type": "code",
   "execution_count": 171,
   "id": "fd606cd3",
   "metadata": {},
   "outputs": [
    {
     "ename": "SyntaxError",
     "evalue": "invalid syntax (1760861045.py, line 1)",
     "output_type": "error",
     "traceback": [
      "\u001b[1;36m  Cell \u001b[1;32mIn[171], line 1\u001b[1;36m\u001b[0m\n\u001b[1;33m    hdh$ = 8\u001b[0m\n\u001b[1;37m       ^\u001b[0m\n\u001b[1;31mSyntaxError\u001b[0m\u001b[1;31m:\u001b[0m invalid syntax\n"
     ]
    }
   ],
   "source": [
    "hdh$ = 8"
   ]
  },
  {
   "cell_type": "code",
   "execution_count": null,
   "id": "8c31fdfa",
   "metadata": {},
   "outputs": [],
   "source": [
    "a = 100\n",
    "b = 200"
   ]
  },
  {
   "cell_type": "code",
   "execution_count": 172,
   "id": "1182128f",
   "metadata": {},
   "outputs": [],
   "source": [
    "c =a+b,"
   ]
  },
  {
   "cell_type": "code",
   "execution_count": 173,
   "id": "459a92c1",
   "metadata": {},
   "outputs": [
    {
     "name": "stdout",
     "output_type": "stream",
     "text": [
      "(208,) <class 'tuple'>\n"
     ]
    }
   ],
   "source": [
    "print(c,type(c))"
   ]
  },
  {
   "cell_type": "code",
   "execution_count": 174,
   "id": "0bd7244d",
   "metadata": {},
   "outputs": [
    {
     "name": "stdout",
     "output_type": "stream",
     "text": [
      "-9 <class 'int'>\n"
     ]
    }
   ],
   "source": [
    "a = -9\n",
    "print(a,type(a))"
   ]
  },
  {
   "cell_type": "code",
   "execution_count": 175,
   "id": "0c79b84f",
   "metadata": {},
   "outputs": [
    {
     "data": {
      "text/plain": [
       "'0b11000'"
      ]
     },
     "execution_count": 175,
     "metadata": {},
     "output_type": "execute_result"
    }
   ],
   "source": [
    "bin(24)"
   ]
  },
  {
   "cell_type": "code",
   "execution_count": 176,
   "id": "b1e1d256",
   "metadata": {},
   "outputs": [
    {
     "data": {
      "text/plain": [
       "'0x62'"
      ]
     },
     "execution_count": 176,
     "metadata": {},
     "output_type": "execute_result"
    }
   ],
   "source": [
    "hex(98)"
   ]
  },
  {
   "cell_type": "code",
   "execution_count": 177,
   "id": "6c65c98a",
   "metadata": {},
   "outputs": [
    {
     "data": {
      "text/plain": [
       "'0o142'"
      ]
     },
     "execution_count": 177,
     "metadata": {},
     "output_type": "execute_result"
    }
   ],
   "source": [
    "oct(98)"
   ]
  },
  {
   "cell_type": "code",
   "execution_count": 178,
   "id": "e6e4f0f6",
   "metadata": {},
   "outputs": [
    {
     "data": {
      "text/plain": [
       "63"
      ]
     },
     "execution_count": 178,
     "metadata": {},
     "output_type": "execute_result"
    }
   ],
   "source": [
    "0o77"
   ]
  },
  {
   "cell_type": "code",
   "execution_count": 179,
   "id": "316d5105",
   "metadata": {},
   "outputs": [
    {
     "data": {
      "text/plain": [
       "7"
      ]
     },
     "execution_count": 179,
     "metadata": {},
     "output_type": "execute_result"
    }
   ],
   "source": [
    "0b111"
   ]
  },
  {
   "cell_type": "code",
   "execution_count": 180,
   "id": "4eab93dc",
   "metadata": {},
   "outputs": [
    {
     "data": {
      "text/plain": [
       "564"
      ]
     },
     "execution_count": 180,
     "metadata": {},
     "output_type": "execute_result"
    }
   ],
   "source": [
    "0x234"
   ]
  },
  {
   "cell_type": "code",
   "execution_count": 181,
   "id": "c1881860",
   "metadata": {},
   "outputs": [],
   "source": [
    "a = 7.0 +9.0"
   ]
  },
  {
   "cell_type": "code",
   "execution_count": 182,
   "id": "c638a722",
   "metadata": {},
   "outputs": [
    {
     "name": "stdout",
     "output_type": "stream",
     "text": [
      "16.0 <class 'float'>\n"
     ]
    }
   ],
   "source": [
    "print(a,type(a))"
   ]
  },
  {
   "cell_type": "code",
   "execution_count": 183,
   "id": "3f8b94d1",
   "metadata": {},
   "outputs": [
    {
     "data": {
      "text/plain": [
       "2000.0"
      ]
     },
     "execution_count": 183,
     "metadata": {},
     "output_type": "execute_result"
    }
   ],
   "source": [
    "2e3"
   ]
  },
  {
   "cell_type": "code",
   "execution_count": 184,
   "id": "0ec765bc",
   "metadata": {},
   "outputs": [
    {
     "data": {
      "text/plain": [
       "0.002"
      ]
     },
     "execution_count": 184,
     "metadata": {},
     "output_type": "execute_result"
    }
   ],
   "source": [
    "2e-3"
   ]
  },
  {
   "cell_type": "code",
   "execution_count": 185,
   "id": "0e893d09",
   "metadata": {},
   "outputs": [],
   "source": [
    "a =  True"
   ]
  },
  {
   "cell_type": "code",
   "execution_count": 186,
   "id": "5ff92d5b",
   "metadata": {},
   "outputs": [
    {
     "name": "stdout",
     "output_type": "stream",
     "text": [
      "True <class 'bool'>\n"
     ]
    }
   ],
   "source": [
    "print(a,type(a))"
   ]
  },
  {
   "cell_type": "code",
   "execution_count": 187,
   "id": "11ca0404",
   "metadata": {},
   "outputs": [
    {
     "data": {
      "text/plain": [
       "1"
      ]
     },
     "execution_count": 187,
     "metadata": {},
     "output_type": "execute_result"
    }
   ],
   "source": [
    "a = True +False\n",
    "a"
   ]
  },
  {
   "cell_type": "code",
   "execution_count": 188,
   "id": "916dd962",
   "metadata": {},
   "outputs": [
    {
     "data": {
      "text/plain": [
       "1"
      ]
     },
     "execution_count": 188,
     "metadata": {},
     "output_type": "execute_result"
    }
   ],
   "source": [
    "a = True - True - False +True + True *True*False\n",
    "a"
   ]
  },
  {
   "cell_type": "code",
   "execution_count": 189,
   "id": "6581001f",
   "metadata": {},
   "outputs": [
    {
     "name": "stdout",
     "output_type": "stream",
     "text": [
      "(9+8j) <class 'complex'>\n"
     ]
    }
   ],
   "source": [
    "a = 9+8j\n",
    "print(a,type(a))"
   ]
  },
  {
   "cell_type": "code",
   "execution_count": 190,
   "id": "91fd455c",
   "metadata": {},
   "outputs": [
    {
     "data": {
      "text/plain": [
       "8.0"
      ]
     },
     "execution_count": 190,
     "metadata": {},
     "output_type": "execute_result"
    }
   ],
   "source": [
    "a.imag"
   ]
  },
  {
   "cell_type": "code",
   "execution_count": 191,
   "id": "40868c05",
   "metadata": {},
   "outputs": [
    {
     "data": {
      "text/plain": [
       "9.0"
      ]
     },
     "execution_count": 191,
     "metadata": {},
     "output_type": "execute_result"
    }
   ],
   "source": [
    "a.real"
   ]
  },
  {
   "cell_type": "code",
   "execution_count": 192,
   "id": "14d121af",
   "metadata": {},
   "outputs": [],
   "source": [
    "a = '''Krishna\n",
    "yedle\n",
    "\n",
    "\n",
    "\n",
    "\n",
    "mbnkbnk,j\n",
    "knknlnl\n",
    "lknlnln\n",
    "'''"
   ]
  },
  {
   "cell_type": "code",
   "execution_count": 193,
   "id": "0eabcbad",
   "metadata": {},
   "outputs": [
    {
     "name": "stdout",
     "output_type": "stream",
     "text": [
      "Krishna\n",
      "yedle\n",
      "\n",
      "\n",
      "\n",
      "\n",
      "mbnkbnk,j\n",
      "knknlnl\n",
      "lknlnln\n",
      " <class 'str'>\n"
     ]
    }
   ],
   "source": [
    "print(a,type(a))"
   ]
  },
  {
   "cell_type": "code",
   "execution_count": 194,
   "id": "5acaddb2",
   "metadata": {},
   "outputs": [],
   "source": [
    "a = \"Python Data science\""
   ]
  },
  {
   "cell_type": "code",
   "execution_count": 195,
   "id": "9cae4c40",
   "metadata": {},
   "outputs": [
    {
     "data": {
      "text/plain": [
       "'saa ot'"
      ]
     },
     "execution_count": 195,
     "metadata": {},
     "output_type": "execute_result"
    }
   ],
   "source": [
    "a[-7:1:-2]"
   ]
  },
  {
   "cell_type": "code",
   "execution_count": 196,
   "id": "794b0874",
   "metadata": {},
   "outputs": [
    {
     "ename": "SyntaxError",
     "evalue": "invalid syntax (138779120.py, line 1)",
     "output_type": "error",
     "traceback": [
      "\u001b[1;36m  Cell \u001b[1;32mIn[196], line 1\u001b[1;36m\u001b[0m\n\u001b[1;33m    a =\u001b[0m\n\u001b[1;37m        ^\u001b[0m\n\u001b[1;31mSyntaxError\u001b[0m\u001b[1;31m:\u001b[0m invalid syntax\n"
     ]
    }
   ],
   "source": [
    "a = \n",
    "print(a,type(a))"
   ]
  },
  {
   "cell_type": "code",
   "execution_count": null,
   "id": "b7078d14",
   "metadata": {},
   "outputs": [],
   "source": [
    "b = str(a)\n",
    "print(b,type(b))"
   ]
  },
  {
   "cell_type": "code",
   "execution_count": 197,
   "id": "dbb9ef50",
   "metadata": {},
   "outputs": [
    {
     "data": {
      "text/plain": [
       "int"
      ]
     },
     "execution_count": 197,
     "metadata": {},
     "output_type": "execute_result"
    }
   ],
   "source": [
    "type(b.real)"
   ]
  },
  {
   "cell_type": "code",
   "execution_count": 198,
   "id": "52b06619",
   "metadata": {},
   "outputs": [],
   "source": [
    "a = [1,2,3]"
   ]
  },
  {
   "cell_type": "code",
   "execution_count": 199,
   "id": "8aa58d2d",
   "metadata": {},
   "outputs": [
    {
     "data": {
      "text/plain": [
       "list"
      ]
     },
     "execution_count": 199,
     "metadata": {},
     "output_type": "execute_result"
    }
   ],
   "source": [
    "type(a)"
   ]
  },
  {
   "cell_type": "code",
   "execution_count": 200,
   "id": "1baf5d29",
   "metadata": {},
   "outputs": [
    {
     "name": "stdout",
     "output_type": "stream",
     "text": [
      "[1, 2, 3] 2064333561664\n"
     ]
    }
   ],
   "source": [
    "print(a,id(a))"
   ]
  },
  {
   "cell_type": "code",
   "execution_count": 201,
   "id": "5ca26741",
   "metadata": {},
   "outputs": [],
   "source": [
    "a.append(4)"
   ]
  },
  {
   "cell_type": "code",
   "execution_count": 202,
   "id": "2e28ee29",
   "metadata": {},
   "outputs": [
    {
     "name": "stdout",
     "output_type": "stream",
     "text": [
      "[1, 2, 3, 4] 2064333561664\n"
     ]
    }
   ],
   "source": [
    "print(a,id(a))"
   ]
  },
  {
   "cell_type": "code",
   "execution_count": 203,
   "id": "dc8d91e1",
   "metadata": {},
   "outputs": [],
   "source": [
    "a = (1,2,3)"
   ]
  },
  {
   "cell_type": "code",
   "execution_count": 204,
   "id": "230f15b3",
   "metadata": {},
   "outputs": [
    {
     "ename": "AttributeError",
     "evalue": "'tuple' object has no attribute 'append'",
     "output_type": "error",
     "traceback": [
      "\u001b[1;31m---------------------------------------------------------------------------\u001b[0m",
      "\u001b[1;31mAttributeError\u001b[0m                            Traceback (most recent call last)",
      "Cell \u001b[1;32mIn[204], line 1\u001b[0m\n\u001b[1;32m----> 1\u001b[0m a\u001b[38;5;241m.\u001b[39mappend(\u001b[38;5;241m4\u001b[39m)\n",
      "\u001b[1;31mAttributeError\u001b[0m: 'tuple' object has no attribute 'append'"
     ]
    }
   ],
   "source": [
    "a.append(4)"
   ]
  },
  {
   "cell_type": "code",
   "execution_count": null,
   "id": "6ca70801",
   "metadata": {},
   "outputs": [],
   "source": [
    "print(a,id(a))"
   ]
  },
  {
   "cell_type": "code",
   "execution_count": null,
   "id": "b9eb07d7",
   "metadata": {},
   "outputs": [],
   "source": [
    "a = (1,2,3,4)"
   ]
  },
  {
   "cell_type": "code",
   "execution_count": null,
   "id": "090f22c3",
   "metadata": {},
   "outputs": [],
   "source": [
    "a"
   ]
  },
  {
   "cell_type": "code",
   "execution_count": null,
   "id": "e3fa1dc4",
   "metadata": {},
   "outputs": [],
   "source": [
    "print(id(a))"
   ]
  },
  {
   "cell_type": "code",
   "execution_count": null,
   "id": "fe033074",
   "metadata": {},
   "outputs": [],
   "source": [
    "a = \"Priya\""
   ]
  },
  {
   "cell_type": "code",
   "execution_count": 205,
   "id": "28135dee",
   "metadata": {},
   "outputs": [],
   "source": [
    "a = \"Priya Das \""
   ]
  },
  {
   "cell_type": "code",
   "execution_count": 206,
   "id": "b5954369",
   "metadata": {},
   "outputs": [
    {
     "name": "stdout",
     "output_type": "stream",
     "text": [
      "2064333559472\n"
     ]
    }
   ],
   "source": [
    "print(id(a))"
   ]
  },
  {
   "cell_type": "code",
   "execution_count": 207,
   "id": "0e1ecf8a",
   "metadata": {},
   "outputs": [],
   "source": [
    "b = \"Priya\""
   ]
  },
  {
   "cell_type": "code",
   "execution_count": 208,
   "id": "ca589c38",
   "metadata": {},
   "outputs": [
    {
     "name": "stdout",
     "output_type": "stream",
     "text": [
      "2064333823408\n"
     ]
    }
   ],
   "source": [
    "print(id(b))"
   ]
  },
  {
   "cell_type": "code",
   "execution_count": 209,
   "id": "8a786212",
   "metadata": {},
   "outputs": [],
   "source": [
    "b =\"Priya Das\""
   ]
  },
  {
   "cell_type": "code",
   "execution_count": 210,
   "id": "3f12a8d8",
   "metadata": {},
   "outputs": [
    {
     "name": "stdout",
     "output_type": "stream",
     "text": [
      "2064333628464\n"
     ]
    }
   ],
   "source": [
    "print(id(b))"
   ]
  },
  {
   "cell_type": "code",
   "execution_count": 211,
   "id": "33a52f05",
   "metadata": {},
   "outputs": [],
   "source": [
    "a=range(0,10)"
   ]
  },
  {
   "cell_type": "code",
   "execution_count": 212,
   "id": "be13506c",
   "metadata": {},
   "outputs": [
    {
     "name": "stdout",
     "output_type": "stream",
     "text": [
      "0\n",
      "1\n",
      "2\n",
      "3\n",
      "4\n",
      "5\n",
      "6\n",
      "7\n",
      "8\n",
      "9\n"
     ]
    }
   ],
   "source": [
    "for i in a:\n",
    "    print(i)"
   ]
  },
  {
   "cell_type": "code",
   "execution_count": 263,
   "id": "1b3448f1",
   "metadata": {},
   "outputs": [],
   "source": [
    "a = (1,9,90,76,125,245,254)"
   ]
  },
  {
   "cell_type": "code",
   "execution_count": 264,
   "id": "d800d75d",
   "metadata": {},
   "outputs": [],
   "source": [
    "b = bytes(a)"
   ]
  },
  {
   "cell_type": "code",
   "execution_count": 265,
   "id": "6760ace6",
   "metadata": {},
   "outputs": [
    {
     "data": {
      "text/plain": [
       "b'\\x01\\tZL}\\xf5\\xfe'"
      ]
     },
     "execution_count": 265,
     "metadata": {},
     "output_type": "execute_result"
    }
   ],
   "source": [
    "b"
   ]
  },
  {
   "cell_type": "code",
   "execution_count": null,
   "id": "a39bf58c",
   "metadata": {},
   "outputs": [],
   "source": []
  },
  {
   "cell_type": "code",
   "execution_count": 266,
   "id": "bd9be616",
   "metadata": {},
   "outputs": [
    {
     "name": "stdout",
     "output_type": "stream",
     "text": [
      "b'\\x01\\tZL}\\xf5\\xfe' <class 'bytes'>\n"
     ]
    }
   ],
   "source": [
    "print(b,type(b))"
   ]
  },
  {
   "cell_type": "code",
   "execution_count": 267,
   "id": "93811082",
   "metadata": {},
   "outputs": [
    {
     "data": {
      "text/plain": [
       "76"
      ]
     },
     "execution_count": 267,
     "metadata": {},
     "output_type": "execute_result"
    }
   ],
   "source": [
    "b[3]"
   ]
  },
  {
   "cell_type": "code",
   "execution_count": 268,
   "id": "570e7cca",
   "metadata": {},
   "outputs": [
    {
     "data": {
      "text/plain": [
       "b'\\x01'"
      ]
     },
     "execution_count": 268,
     "metadata": {},
     "output_type": "execute_result"
    }
   ],
   "source": [
    "b[0:1]"
   ]
  },
  {
   "cell_type": "code",
   "execution_count": 269,
   "id": "f0e46a85",
   "metadata": {},
   "outputs": [
    {
     "name": "stdout",
     "output_type": "stream",
     "text": [
      "1\n",
      "9\n",
      "90\n",
      "76\n",
      "125\n",
      "245\n",
      "254\n"
     ]
    }
   ],
   "source": [
    "for i in b:\n",
    "    print(i)"
   ]
  },
  {
   "cell_type": "code",
   "execution_count": 270,
   "id": "7426a892",
   "metadata": {},
   "outputs": [
    {
     "ename": "AttributeError",
     "evalue": "'bytes' object has no attribute 'append'",
     "output_type": "error",
     "traceback": [
      "\u001b[1;31m---------------------------------------------------------------------------\u001b[0m",
      "\u001b[1;31mAttributeError\u001b[0m                            Traceback (most recent call last)",
      "Cell \u001b[1;32mIn[270], line 1\u001b[0m\n\u001b[1;32m----> 1\u001b[0m b\u001b[38;5;241m.\u001b[39mappend(\u001b[38;5;241m2\u001b[39m)\n",
      "\u001b[1;31mAttributeError\u001b[0m: 'bytes' object has no attribute 'append'"
     ]
    }
   ],
   "source": [
    "b.append(2)"
   ]
  },
  {
   "cell_type": "code",
   "execution_count": 271,
   "id": "c09df19f",
   "metadata": {},
   "outputs": [
    {
     "ename": "TypeError",
     "evalue": "'bytes' object does not support item assignment",
     "output_type": "error",
     "traceback": [
      "\u001b[1;31m---------------------------------------------------------------------------\u001b[0m",
      "\u001b[1;31mTypeError\u001b[0m                                 Traceback (most recent call last)",
      "Cell \u001b[1;32mIn[271], line 1\u001b[0m\n\u001b[1;32m----> 1\u001b[0m b[\u001b[38;5;241m2\u001b[39m]\u001b[38;5;241m=\u001b[39m\u001b[38;5;241m23\u001b[39m\n",
      "\u001b[1;31mTypeError\u001b[0m: 'bytes' object does not support item assignment"
     ]
    }
   ],
   "source": [
    "b[2]=23 #item assignment"
   ]
  },
  {
   "cell_type": "code",
   "execution_count": 272,
   "id": "038a747e",
   "metadata": {},
   "outputs": [
    {
     "name": "stdout",
     "output_type": "stream",
     "text": [
      "(0, 19, 73, 255, -87, 98, 34) <class 'tuple'>\n"
     ]
    }
   ],
   "source": [
    "a = (0,19,73,255,-87,98,34)\n",
    "print(a,type(a))"
   ]
  },
  {
   "cell_type": "code",
   "execution_count": 273,
   "id": "c37e25a7",
   "metadata": {},
   "outputs": [
    {
     "ename": "ValueError",
     "evalue": "bytes must be in range(0, 256)",
     "output_type": "error",
     "traceback": [
      "\u001b[1;31m---------------------------------------------------------------------------\u001b[0m",
      "\u001b[1;31mValueError\u001b[0m                                Traceback (most recent call last)",
      "Cell \u001b[1;32mIn[273], line 1\u001b[0m\n\u001b[1;32m----> 1\u001b[0m b\u001b[38;5;241m=\u001b[39m\u001b[38;5;28mbytes\u001b[39m(a)\n",
      "\u001b[1;31mValueError\u001b[0m: bytes must be in range(0, 256)"
     ]
    }
   ],
   "source": [
    "b=bytes(a)"
   ]
  },
  {
   "cell_type": "code",
   "execution_count": 274,
   "id": "6a521f0c",
   "metadata": {},
   "outputs": [
    {
     "name": "stdout",
     "output_type": "stream",
     "text": [
      "range(0, 256) <class 'range'>\n"
     ]
    }
   ],
   "source": [
    "p=range(0, 256)\n",
    "print(p,type(p))"
   ]
  },
  {
   "cell_type": "code",
   "execution_count": 275,
   "id": "70b2e43c",
   "metadata": {},
   "outputs": [
    {
     "name": "stdout",
     "output_type": "stream",
     "text": [
      "0 1 2 3 4 5 6 7 8 9 10 11 12 13 14 15 16 17 18 19 20 21 22 23 24 25 26 27 28 29 30 31 32 33 34 35 36 37 38 39 40 41 42 43 44 45 46 47 48 49 50 51 52 53 54 55 56 57 58 59 60 61 62 63 64 65 66 67 68 69 70 71 72 73 74 75 76 77 78 79 80 81 82 83 84 85 86 87 88 89 90 91 92 93 94 95 96 97 98 99 100 101 102 103 104 105 106 107 108 109 110 111 112 113 114 115 116 117 118 119 120 121 122 123 124 125 126 127 128 129 130 131 132 133 134 135 136 137 138 139 140 141 142 143 144 145 146 147 148 149 150 151 152 153 154 155 156 157 158 159 160 161 162 163 164 165 166 167 168 169 170 171 172 173 174 175 176 177 178 179 180 181 182 183 184 185 186 187 188 189 190 191 192 193 194 195 196 197 198 199 200 201 202 203 204 205 206 207 208 209 210 211 212 213 214 215 216 217 218 219 220 221 222 223 224 225 226 227 228 229 230 231 232 233 234 235 236 237 238 239 240 241 242 243 244 245 246 247 248 249 250 251 252 253 254 255 "
     ]
    }
   ],
   "source": [
    "for i in p:\n",
    "    print(i,end=\" \")"
   ]
  },
  {
   "cell_type": "code",
   "execution_count": null,
   "id": "f68fd58f",
   "metadata": {},
   "outputs": [],
   "source": [
    "a"
   ]
  },
  {
   "cell_type": "code",
   "execution_count": null,
   "id": "63a3c5dc",
   "metadata": {},
   "outputs": [],
   "source": [
    "a = (0, 19, 73, 255, 87, 98, 34)\n",
    "b = bytearray(a)\n",
    "print(b,type(b))"
   ]
  },
  {
   "cell_type": "code",
   "execution_count": null,
   "id": "3839244f",
   "metadata": {},
   "outputs": [],
   "source": []
  },
  {
   "cell_type": "code",
   "execution_count": null,
   "id": "fce454e5",
   "metadata": {},
   "outputs": [],
   "source": []
  },
  {
   "cell_type": "code",
   "execution_count": null,
   "id": "5f8adc4d",
   "metadata": {},
   "outputs": [],
   "source": [
    "b[0]"
   ]
  },
  {
   "cell_type": "code",
   "execution_count": null,
   "id": "23a47740",
   "metadata": {},
   "outputs": [
    {
     "data": {
      "text/plain": [
       "254"
      ]
     },
     "execution_count": 222,
     "metadata": {},
     "output_type": "execute_result"
    }
   ],
   "source": [
    "b[-1]"
   ]
  },
  {
   "cell_type": "code",
   "execution_count": null,
   "id": "84f0481f",
   "metadata": {},
   "outputs": [
    {
     "data": {
      "text/plain": [
       "b'\\x01\\t'"
      ]
     },
     "execution_count": 223,
     "metadata": {},
     "output_type": "execute_result"
    }
   ],
   "source": [
    "b[0:2]"
   ]
  },
  {
   "cell_type": "code",
   "execution_count": null,
   "id": "c0e68f0d",
   "metadata": {},
   "outputs": [
    {
     "name": "stdout",
     "output_type": "stream",
     "text": [
      "1\n",
      "9\n",
      "90\n",
      "76\n",
      "125\n",
      "245\n",
      "254\n"
     ]
    }
   ],
   "source": [
    "for i in b:\n",
    "    print(i)"
   ]
  },
  {
   "cell_type": "code",
   "execution_count": null,
   "id": "bb4b34d4",
   "metadata": {},
   "outputs": [
    {
     "ename": "AttributeError",
     "evalue": "'bytes' object has no attribute 'append'",
     "output_type": "error",
     "traceback": [
      "\u001b[1;31m---------------------------------------------------------------------------\u001b[0m",
      "\u001b[1;31mAttributeError\u001b[0m                            Traceback (most recent call last)",
      "Cell \u001b[1;32mIn[225], line 1\u001b[0m\n\u001b[1;32m----> 1\u001b[0m b\u001b[38;5;241m.\u001b[39mappend(\u001b[38;5;241m45\u001b[39m)\n",
      "\u001b[1;31mAttributeError\u001b[0m: 'bytes' object has no attribute 'append'"
     ]
    }
   ],
   "source": [
    "b.append(45)"
   ]
  },
  {
   "cell_type": "code",
   "execution_count": null,
   "id": "0212d4c8",
   "metadata": {},
   "outputs": [],
   "source": [
    "for i in b:\n",
    "    print(i)"
   ]
  },
  {
   "cell_type": "code",
   "execution_count": null,
   "id": "d8b5c459",
   "metadata": {},
   "outputs": [],
   "source": [
    "print(b,id(b))"
   ]
  },
  {
   "cell_type": "code",
   "execution_count": null,
   "id": "c2885cd5",
   "metadata": {},
   "outputs": [],
   "source": [
    "b[2]=43"
   ]
  },
  {
   "cell_type": "code",
   "execution_count": null,
   "id": "726dafed",
   "metadata": {},
   "outputs": [],
   "source": [
    "print(b,id(b))"
   ]
  },
  {
   "cell_type": "code",
   "execution_count": null,
   "id": "5e47dbc4",
   "metadata": {},
   "outputs": [
    {
     "name": "stdout",
     "output_type": "stream",
     "text": [
      "1\n",
      "9\n",
      "90\n",
      "76\n",
      "125\n",
      "245\n",
      "254\n"
     ]
    }
   ],
   "source": [
    "for i in b:\n",
    "    print(i)"
   ]
  },
  {
   "cell_type": "code",
   "execution_count": null,
   "id": "8048f4d4",
   "metadata": {},
   "outputs": [
    {
     "name": "stdout",
     "output_type": "stream",
     "text": [
      "range(0, 10) <class 'range'>\n"
     ]
    }
   ],
   "source": [
    "a = range(10) #range data type\n",
    "print(a,type(a))"
   ]
  },
  {
   "cell_type": "code",
   "execution_count": null,
   "id": "bbddcbe2",
   "metadata": {},
   "outputs": [
    {
     "name": "stdout",
     "output_type": "stream",
     "text": [
      "0\n",
      "1\n",
      "2\n",
      "3\n",
      "4\n",
      "5\n",
      "6\n",
      "7\n",
      "8\n",
      "9\n"
     ]
    }
   ],
   "source": [
    "for i in a:\n",
    "    print(i)"
   ]
  },
  {
   "cell_type": "code",
   "execution_count": null,
   "id": "02e945fe",
   "metadata": {},
   "outputs": [],
   "source": [
    "a = range(2,9)"
   ]
  },
  {
   "cell_type": "code",
   "execution_count": null,
   "id": "2f020dea",
   "metadata": {},
   "outputs": [
    {
     "name": "stdout",
     "output_type": "stream",
     "text": [
      "2\n",
      "3\n",
      "4\n",
      "5\n",
      "6\n",
      "7\n",
      "8\n"
     ]
    }
   ],
   "source": [
    "for i in a:\n",
    "    print(i)"
   ]
  },
  {
   "cell_type": "code",
   "execution_count": null,
   "id": "51cfdb60",
   "metadata": {},
   "outputs": [
    {
     "name": "stdout",
     "output_type": "stream",
     "text": [
      "2\n",
      "4\n",
      "6\n",
      "8\n"
     ]
    }
   ],
   "source": [
    "a = range(2,9,2)\n",
    "for i in a:\n",
    "    print(i)"
   ]
  },
  {
   "cell_type": "code",
   "execution_count": null,
   "id": "e854c7df",
   "metadata": {},
   "outputs": [],
   "source": [
    "a = range(22,19,1)\n",
    "for i in a:\n",
    "    print(i)"
   ]
  },
  {
   "cell_type": "code",
   "execution_count": null,
   "id": "a62661ab",
   "metadata": {},
   "outputs": [
    {
     "name": "stdout",
     "output_type": "stream",
     "text": [
      "-4\n",
      "-3\n",
      "-2\n",
      "-1\n",
      "0\n",
      "1\n",
      "2\n",
      "3\n",
      "4\n",
      "5\n",
      "6\n",
      "7\n",
      "8\n",
      "9\n",
      "10\n",
      "11\n",
      "12\n",
      "13\n",
      "14\n",
      "15\n",
      "16\n",
      "17\n",
      "18\n"
     ]
    }
   ],
   "source": [
    "a = range(-4,19,1)\n",
    "for i in a:\n",
    "    print(i)"
   ]
  },
  {
   "cell_type": "code",
   "execution_count": null,
   "id": "31c698e7",
   "metadata": {},
   "outputs": [
    {
     "name": "stdout",
     "output_type": "stream",
     "text": [
      "-14\n",
      "-11\n",
      "-8\n",
      "-5\n"
     ]
    }
   ],
   "source": [
    "a = range(-14,-3,3)\n",
    "for i in a:\n",
    "    print(i)"
   ]
  },
  {
   "cell_type": "code",
   "execution_count": null,
   "id": "d1e1f02e",
   "metadata": {},
   "outputs": [
    {
     "name": "stdout",
     "output_type": "stream",
     "text": [
      "33\n",
      "30\n",
      "27\n",
      "24\n",
      "21\n",
      "18\n",
      "15\n",
      "12\n",
      "9\n"
     ]
    }
   ],
   "source": [
    "a = range(33,7,-3)\n",
    "for i in a:\n",
    "    print(i)"
   ]
  },
  {
   "cell_type": "code",
   "execution_count": null,
   "id": "69fa82ae",
   "metadata": {},
   "outputs": [
    {
     "name": "stdout",
     "output_type": "stream",
     "text": [
      "12\n",
      "11\n",
      "10\n",
      "9\n",
      "8\n",
      "7\n"
     ]
    }
   ],
   "source": [
    "a = range(12,6,-1)\n",
    "for i in a:\n",
    "    print(i)"
   ]
  },
  {
   "cell_type": "code",
   "execution_count": null,
   "id": "d57f8820",
   "metadata": {},
   "outputs": [],
   "source": [
    "a = range(-44,-19,-4)\n",
    "for i in a:\n",
    "    print(i)"
   ]
  },
  {
   "cell_type": "code",
   "execution_count": null,
   "id": "593aa3b6",
   "metadata": {},
   "outputs": [],
   "source": [
    "a = range(-7)\n",
    "for i in a:\n",
    "    print(i)"
   ]
  },
  {
   "cell_type": "code",
   "execution_count": null,
   "id": "5b7aec2b",
   "metadata": {},
   "outputs": [
    {
     "ename": "TypeError",
     "evalue": "'float' object cannot be interpreted as an integer",
     "output_type": "error",
     "traceback": [
      "\u001b[1;31m---------------------------------------------------------------------------\u001b[0m",
      "\u001b[1;31mTypeError\u001b[0m                                 Traceback (most recent call last)",
      "Cell \u001b[1;32mIn[239], line 1\u001b[0m\n\u001b[1;32m----> 1\u001b[0m a \u001b[38;5;241m=\u001b[39m \u001b[38;5;28mrange\u001b[39m(\u001b[38;5;241m0.4\u001b[39m,\u001b[38;5;241m0.7\u001b[39m)\n",
      "\u001b[1;31mTypeError\u001b[0m: 'float' object cannot be interpreted as an integer"
     ]
    }
   ],
   "source": [
    "a = range(0.4,0.7)"
   ]
  },
  {
   "cell_type": "code",
   "execution_count": null,
   "id": "8383718e",
   "metadata": {},
   "outputs": [],
   "source": [
    "a = []\n",
    "print(a,type(a))"
   ]
  },
  {
   "cell_type": "code",
   "execution_count": null,
   "id": "ce832981",
   "metadata": {},
   "outputs": [],
   "source": [
    "a = [1,2,3,45,67]\n",
    "print(a,type(a))"
   ]
  },
  {
   "cell_type": "code",
   "execution_count": null,
   "id": "4f904738",
   "metadata": {},
   "outputs": [],
   "source": [
    "b = 1,2,3,4,56,8.8,\"Bharat\",\"Anshhul\"\n",
    "print(b,type(b))"
   ]
  },
  {
   "cell_type": "code",
   "execution_count": null,
   "id": "5002c78c",
   "metadata": {},
   "outputs": [],
   "source": [
    "c = list(b)\n",
    "print(c,type(c))"
   ]
  },
  {
   "cell_type": "code",
   "execution_count": null,
   "id": "cace0ebe",
   "metadata": {},
   "outputs": [
    {
     "data": {
      "text/plain": [
       "(208,)"
      ]
     },
     "execution_count": 240,
     "metadata": {},
     "output_type": "execute_result"
    }
   ],
   "source": [
    "c"
   ]
  },
  {
   "cell_type": "code",
   "execution_count": null,
   "id": "2f46c426",
   "metadata": {},
   "outputs": [
    {
     "data": {
      "text/plain": [
       "208"
      ]
     },
     "execution_count": 241,
     "metadata": {},
     "output_type": "execute_result"
    }
   ],
   "source": [
    "c[0]"
   ]
  },
  {
   "cell_type": "code",
   "execution_count": null,
   "id": "25552ec4",
   "metadata": {},
   "outputs": [
    {
     "ename": "IndexError",
     "evalue": "tuple index out of range",
     "output_type": "error",
     "traceback": [
      "\u001b[1;31m---------------------------------------------------------------------------\u001b[0m",
      "\u001b[1;31mIndexError\u001b[0m                                Traceback (most recent call last)",
      "Cell \u001b[1;32mIn[242], line 1\u001b[0m\n\u001b[1;32m----> 1\u001b[0m c[\u001b[38;5;241m9\u001b[39m\u001b[38;5;241m+\u001b[39m\u001b[38;5;241m7\u001b[39m\u001b[38;5;241m-\u001b[39m\u001b[38;5;241m6\u001b[39m\u001b[38;5;241m*\u001b[39m\u001b[38;5;241m2\u001b[39m]\n",
      "\u001b[1;31mIndexError\u001b[0m: tuple index out of range"
     ]
    }
   ],
   "source": [
    "c[9+7-6*2]"
   ]
  },
  {
   "cell_type": "code",
   "execution_count": null,
   "id": "95915ac0",
   "metadata": {},
   "outputs": [],
   "source": [
    "a"
   ]
  },
  {
   "cell_type": "code",
   "execution_count": null,
   "id": "195dec79",
   "metadata": {},
   "outputs": [],
   "source": []
  },
  {
   "cell_type": "code",
   "execution_count": null,
   "id": "1882e40e",
   "metadata": {},
   "outputs": [],
   "source": [
    "a[0:45]"
   ]
  },
  {
   "cell_type": "code",
   "execution_count": null,
   "id": "c21d9695",
   "metadata": {},
   "outputs": [],
   "source": [
    "a[9]"
   ]
  },
  {
   "cell_type": "code",
   "execution_count": null,
   "id": "efcc90f9",
   "metadata": {},
   "outputs": [],
   "source": [
    "a"
   ]
  },
  {
   "cell_type": "code",
   "execution_count": null,
   "id": "5fb72b1a",
   "metadata": {},
   "outputs": [
    {
     "ename": "AttributeError",
     "evalue": "'range' object has no attribute 'append'",
     "output_type": "error",
     "traceback": [
      "\u001b[1;31m---------------------------------------------------------------------------\u001b[0m",
      "\u001b[1;31mAttributeError\u001b[0m                            Traceback (most recent call last)",
      "Cell \u001b[1;32mIn[243], line 1\u001b[0m\n\u001b[1;32m----> 1\u001b[0m a\u001b[38;5;241m.\u001b[39mappend(\u001b[38;5;124m\"\u001b[39m\u001b[38;5;124mAtharv\u001b[39m\u001b[38;5;124m\"\u001b[39m)\n\u001b[0;32m      2\u001b[0m a\n",
      "\u001b[1;31mAttributeError\u001b[0m: 'range' object has no attribute 'append'"
     ]
    }
   ],
   "source": [
    "a.append(\"Atharv\")\n",
    "a"
   ]
  },
  {
   "cell_type": "code",
   "execution_count": null,
   "id": "42d459a1",
   "metadata": {},
   "outputs": [],
   "source": [
    "a.insert(3,\"Arjun\")"
   ]
  },
  {
   "cell_type": "code",
   "execution_count": null,
   "id": "5706a965",
   "metadata": {},
   "outputs": [],
   "source": [
    "a"
   ]
  },
  {
   "cell_type": "code",
   "execution_count": null,
   "id": "76c46366",
   "metadata": {},
   "outputs": [],
   "source": [
    "a.insert(2,7,8)"
   ]
  },
  {
   "cell_type": "code",
   "execution_count": null,
   "id": "79232088",
   "metadata": {},
   "outputs": [],
   "source": [
    "a"
   ]
  },
  {
   "cell_type": "code",
   "execution_count": null,
   "id": "a32063c6",
   "metadata": {},
   "outputs": [],
   "source": [
    "a.insert(2,(1,2))"
   ]
  },
  {
   "cell_type": "code",
   "execution_count": null,
   "id": "58a75ad4",
   "metadata": {},
   "outputs": [
    {
     "data": {
      "text/plain": [
       "range(0, -7)"
      ]
     },
     "execution_count": 244,
     "metadata": {},
     "output_type": "execute_result"
    }
   ],
   "source": [
    "a"
   ]
  },
  {
   "cell_type": "code",
   "execution_count": null,
   "id": "5089400d",
   "metadata": {},
   "outputs": [
    {
     "ename": "IndexError",
     "evalue": "range object index out of range",
     "output_type": "error",
     "traceback": [
      "\u001b[1;31m---------------------------------------------------------------------------\u001b[0m",
      "\u001b[1;31mIndexError\u001b[0m                                Traceback (most recent call last)",
      "Cell \u001b[1;32mIn[245], line 1\u001b[0m\n\u001b[1;32m----> 1\u001b[0m a[\u001b[38;5;241m2\u001b[39m]\n",
      "\u001b[1;31mIndexError\u001b[0m: range object index out of range"
     ]
    }
   ],
   "source": [
    "a[2]"
   ]
  },
  {
   "cell_type": "code",
   "execution_count": null,
   "id": "e6d91096",
   "metadata": {},
   "outputs": [],
   "source": [
    "a.remove(67)"
   ]
  },
  {
   "cell_type": "code",
   "execution_count": null,
   "id": "64ab7b96",
   "metadata": {},
   "outputs": [],
   "source": [
    "a"
   ]
  },
  {
   "cell_type": "code",
   "execution_count": null,
   "id": "89a51a5e",
   "metadata": {},
   "outputs": [],
   "source": [
    "a.remove(44)"
   ]
  },
  {
   "cell_type": "code",
   "execution_count": null,
   "id": "d288dcbd",
   "metadata": {},
   "outputs": [],
   "source": [
    "a.remove()"
   ]
  },
  {
   "cell_type": "code",
   "execution_count": null,
   "id": "ec5c0ab7",
   "metadata": {},
   "outputs": [],
   "source": [
    "a.pop(2)"
   ]
  },
  {
   "cell_type": "code",
   "execution_count": null,
   "id": "10d184ad",
   "metadata": {},
   "outputs": [
    {
     "data": {
      "text/plain": [
       "range(0, -7)"
      ]
     },
     "execution_count": 246,
     "metadata": {},
     "output_type": "execute_result"
    }
   ],
   "source": [
    "a"
   ]
  },
  {
   "cell_type": "code",
   "execution_count": null,
   "id": "d3d12b26",
   "metadata": {},
   "outputs": [
    {
     "ename": "AttributeError",
     "evalue": "'range' object has no attribute 'pop'",
     "output_type": "error",
     "traceback": [
      "\u001b[1;31m---------------------------------------------------------------------------\u001b[0m",
      "\u001b[1;31mAttributeError\u001b[0m                            Traceback (most recent call last)",
      "Cell \u001b[1;32mIn[247], line 1\u001b[0m\n\u001b[1;32m----> 1\u001b[0m a\u001b[38;5;241m.\u001b[39mpop(\u001b[38;5;241m7\u001b[39m)\n",
      "\u001b[1;31mAttributeError\u001b[0m: 'range' object has no attribute 'pop'"
     ]
    }
   ],
   "source": [
    "a.pop(7)"
   ]
  },
  {
   "cell_type": "code",
   "execution_count": null,
   "id": "97d04352",
   "metadata": {},
   "outputs": [],
   "source": [
    "a.pop()"
   ]
  },
  {
   "cell_type": "code",
   "execution_count": null,
   "id": "7e282161",
   "metadata": {},
   "outputs": [],
   "source": [
    "a.pop()"
   ]
  },
  {
   "cell_type": "code",
   "execution_count": null,
   "id": "666e7300",
   "metadata": {},
   "outputs": [],
   "source": [
    "a"
   ]
  },
  {
   "cell_type": "code",
   "execution_count": null,
   "id": "f1c12eed",
   "metadata": {},
   "outputs": [],
   "source": [
    "a.pop()"
   ]
  },
  {
   "cell_type": "code",
   "execution_count": null,
   "id": "17146978",
   "metadata": {},
   "outputs": [],
   "source": [
    "c"
   ]
  },
  {
   "cell_type": "code",
   "execution_count": null,
   "id": "22bcb96d",
   "metadata": {},
   "outputs": [],
   "source": [
    "b = c[0:5]"
   ]
  },
  {
   "cell_type": "code",
   "execution_count": null,
   "id": "d66fac4e",
   "metadata": {},
   "outputs": [
    {
     "ename": "AttributeError",
     "evalue": "'bytes' object has no attribute 'pop'",
     "output_type": "error",
     "traceback": [
      "\u001b[1;31m---------------------------------------------------------------------------\u001b[0m",
      "\u001b[1;31mAttributeError\u001b[0m                            Traceback (most recent call last)",
      "Cell \u001b[1;32mIn[248], line 1\u001b[0m\n\u001b[1;32m----> 1\u001b[0m b\u001b[38;5;241m.\u001b[39mpop()\n",
      "\u001b[1;31mAttributeError\u001b[0m: 'bytes' object has no attribute 'pop'"
     ]
    }
   ],
   "source": [
    "\n",
    "b.pop()"
   ]
  },
  {
   "cell_type": "code",
   "execution_count": null,
   "id": "b3378f48",
   "metadata": {},
   "outputs": [],
   "source": [
    "b"
   ]
  },
  {
   "cell_type": "code",
   "execution_count": null,
   "id": "3c931c92",
   "metadata": {},
   "outputs": [],
   "source": [
    "c"
   ]
  },
  {
   "cell_type": "code",
   "execution_count": null,
   "id": "95a252a5",
   "metadata": {},
   "outputs": [],
   "source": [
    "c[0:1]"
   ]
  },
  {
   "cell_type": "code",
   "execution_count": null,
   "id": "f0099d81",
   "metadata": {},
   "outputs": [],
   "source": [
    "c[0:1].pop()"
   ]
  },
  {
   "cell_type": "code",
   "execution_count": null,
   "id": "10203a9e",
   "metadata": {},
   "outputs": [],
   "source": [
    "[1].pop()"
   ]
  },
  {
   "cell_type": "code",
   "execution_count": null,
   "id": "3bcadc3e",
   "metadata": {},
   "outputs": [
    {
     "data": {
      "text/plain": [
       "(208,)"
      ]
     },
     "execution_count": 249,
     "metadata": {},
     "output_type": "execute_result"
    }
   ],
   "source": [
    "c[0:5]"
   ]
  },
  {
   "cell_type": "code",
   "execution_count": null,
   "id": "9b1e549a",
   "metadata": {},
   "outputs": [
    {
     "ename": "AttributeError",
     "evalue": "'tuple' object has no attribute 'pop'",
     "output_type": "error",
     "traceback": [
      "\u001b[1;31m---------------------------------------------------------------------------\u001b[0m",
      "\u001b[1;31mAttributeError\u001b[0m                            Traceback (most recent call last)",
      "Cell \u001b[1;32mIn[250], line 1\u001b[0m\n\u001b[1;32m----> 1\u001b[0m c[\u001b[38;5;241m0\u001b[39m:\u001b[38;5;241m5\u001b[39m]\u001b[38;5;241m.\u001b[39mpop()\n",
      "\u001b[1;31mAttributeError\u001b[0m: 'tuple' object has no attribute 'pop'"
     ]
    }
   ],
   "source": [
    "c[0:5].pop()"
   ]
  },
  {
   "cell_type": "code",
   "execution_count": null,
   "id": "721b50d7",
   "metadata": {},
   "outputs": [],
   "source": [
    "a = \"Atharv\""
   ]
  },
  {
   "cell_type": "code",
   "execution_count": null,
   "id": "1d776722",
   "metadata": {},
   "outputs": [],
   "source": [
    "print(a,id(a))"
   ]
  },
  {
   "cell_type": "code",
   "execution_count": null,
   "id": "d9059d19",
   "metadata": {},
   "outputs": [],
   "source": [
    "a.replace(\"Butala\")"
   ]
  },
  {
   "cell_type": "code",
   "execution_count": null,
   "id": "89a3e527",
   "metadata": {},
   "outputs": [],
   "source": [
    "id(a)"
   ]
  },
  {
   "cell_type": "code",
   "execution_count": null,
   "id": "bc0a17f6",
   "metadata": {},
   "outputs": [
    {
     "name": "stdout",
     "output_type": "stream",
     "text": [
      "Whare 2064332944368\n"
     ]
    }
   ],
   "source": [
    "a = \"Whare\"\n",
    "print(a,id(a))"
   ]
  },
  {
   "cell_type": "code",
   "execution_count": null,
   "id": "bdf87b40",
   "metadata": {},
   "outputs": [],
   "source": [
    "b= a.replace(\"a\",\"e\")"
   ]
  },
  {
   "cell_type": "code",
   "execution_count": null,
   "id": "55f4e308",
   "metadata": {},
   "outputs": [
    {
     "name": "stdout",
     "output_type": "stream",
     "text": [
      "Where 2064332864880\n"
     ]
    }
   ],
   "source": [
    "print(b,id(b))"
   ]
  },
  {
   "cell_type": "code",
   "execution_count": null,
   "id": "be32a1db",
   "metadata": {},
   "outputs": [
    {
     "data": {
      "text/plain": [
       "'Where'"
      ]
     },
     "execution_count": 254,
     "metadata": {},
     "output_type": "execute_result"
    }
   ],
   "source": [
    "a.replace(\"a\",\"e\")"
   ]
  },
  {
   "cell_type": "code",
   "execution_count": null,
   "id": "20a20e30",
   "metadata": {},
   "outputs": [],
   "source": [
    "a = \"Atherva\""
   ]
  },
  {
   "cell_type": "code",
   "execution_count": null,
   "id": "b1ae0469",
   "metadata": {},
   "outputs": [],
   "source": [
    "a =\"Atharv\""
   ]
  },
  {
   "cell_type": "code",
   "execution_count": null,
   "id": "48ae189b",
   "metadata": {},
   "outputs": [],
   "source": []
  },
  {
   "cell_type": "code",
   "execution_count": null,
   "id": "c5f2df7d",
   "metadata": {},
   "outputs": [],
   "source": []
  },
  {
   "cell_type": "code",
   "execution_count": null,
   "id": "9ff5eea3",
   "metadata": {},
   "outputs": [
    {
     "name": "stdout",
     "output_type": "stream",
     "text": [
      "13.0 <class 'float'>\n",
      "13 <class 'int'>\n"
     ]
    }
   ],
   "source": [
    "a = 12.999999999999999999\n",
    "print(a,type(a))\n",
    "b = int(a)\n",
    "print(b,type(b))"
   ]
  },
  {
   "cell_type": "code",
   "execution_count": null,
   "id": "2fb26252",
   "metadata": {},
   "outputs": [
    {
     "name": "stdout",
     "output_type": "stream",
     "text": [
      "False <class 'bool'>\n",
      "0 <class 'int'>\n"
     ]
    }
   ],
   "source": [
    "a = False\n",
    "print(a,type(a))\n",
    "b = int(a)\n",
    "print(b,type(b))"
   ]
  },
  {
   "cell_type": "code",
   "execution_count": null,
   "id": "53bd95b5",
   "metadata": {},
   "outputs": [
    {
     "name": "stdout",
     "output_type": "stream",
     "text": [
      "(3+7j) <class 'complex'>\n"
     ]
    },
    {
     "ename": "TypeError",
     "evalue": "int() argument must be a string, a bytes-like object or a real number, not 'complex'",
     "output_type": "error",
     "traceback": [
      "\u001b[1;31m---------------------------------------------------------------------------\u001b[0m",
      "\u001b[1;31mTypeError\u001b[0m                                 Traceback (most recent call last)",
      "Cell \u001b[1;32mIn[259], line 3\u001b[0m\n\u001b[0;32m      1\u001b[0m a \u001b[38;5;241m=\u001b[39m \u001b[38;5;241m3\u001b[39m\u001b[38;5;241m+\u001b[39m\u001b[38;5;241m7\u001b[39mj\n\u001b[0;32m      2\u001b[0m \u001b[38;5;28mprint\u001b[39m(a,\u001b[38;5;28mtype\u001b[39m(a))\n\u001b[1;32m----> 3\u001b[0m b \u001b[38;5;241m=\u001b[39m \u001b[38;5;28mint\u001b[39m(a)\n\u001b[0;32m      4\u001b[0m \u001b[38;5;28mprint\u001b[39m(b,\u001b[38;5;28mtype\u001b[39m(b))\n",
      "\u001b[1;31mTypeError\u001b[0m: int() argument must be a string, a bytes-like object or a real number, not 'complex'"
     ]
    }
   ],
   "source": [
    "a = 3+7j\n",
    "print(a,type(a))\n",
    "b = int(a)\n",
    "print(b,type(b))"
   ]
  },
  {
   "cell_type": "code",
   "execution_count": null,
   "id": "a4378740",
   "metadata": {},
   "outputs": [],
   "source": [
    "a = 3+7j\n",
    "print(a,type(a))\n",
    "b = int(a.imag)\n",
    "print(b,type(b))"
   ]
  },
  {
   "cell_type": "code",
   "execution_count": null,
   "id": "9f327b30",
   "metadata": {},
   "outputs": [],
   "source": [
    "a = \"10\"\n",
    "print(a,type(a))\n",
    "b = int(a)\n",
    "print(b,type(b))"
   ]
  },
  {
   "cell_type": "code",
   "execution_count": null,
   "id": "d26d9fb7",
   "metadata": {},
   "outputs": [],
   "source": [
    "a = \"10.9\"\n",
    "print(a,type(a))\n",
    "b = int(a)\n",
    "print(b,type(b))"
   ]
  },
  {
   "cell_type": "code",
   "execution_count": null,
   "id": "7ebd0342",
   "metadata": {},
   "outputs": [],
   "source": [
    "a = \"2+9j\"\n",
    "print(a,type(a))\n",
    "b = int(a)\n",
    "print(b,type(b))"
   ]
  },
  {
   "cell_type": "code",
   "execution_count": null,
   "id": "b57d2516",
   "metadata": {},
   "outputs": [],
   "source": [
    "a = \"True\"\n",
    "print(a,type(a))\n",
    "b = int(a)\n",
    "print(b,type(b))"
   ]
  },
  {
   "cell_type": "code",
   "execution_count": null,
   "id": "33bc8a2d",
   "metadata": {},
   "outputs": [],
   "source": [
    "a = \"10\"\n",
    "print(a,type(a))\n",
    "b = float(a)\n",
    "print(b,type(b))"
   ]
  },
  {
   "cell_type": "code",
   "execution_count": null,
   "id": "f8261a02",
   "metadata": {},
   "outputs": [],
   "source": [
    "a = \"10.7\"\n",
    "print(a,type(a))\n",
    "b = float(a)\n",
    "print(b,type(b))"
   ]
  },
  {
   "cell_type": "code",
   "execution_count": null,
   "id": "97229a5a",
   "metadata": {},
   "outputs": [],
   "source": [
    "a = 0\n",
    "print(a,type(a))\n",
    "b = bool(a)\n",
    "print(b,type(b))"
   ]
  },
  {
   "cell_type": "code",
   "execution_count": null,
   "id": "a74f8413",
   "metadata": {},
   "outputs": [],
   "source": [
    "a = 0.000000000000000000000000000000000000000000000000000000000000000000000000000000000000000000000000010000000000000000000000000000000000000000000000000000000000000000000000000000000000000000\n",
    "print(a,type(a))\n",
    "b = bool(a)\n",
    "print(b,type(b))"
   ]
  },
  {
   "cell_type": "code",
   "execution_count": null,
   "id": "9d2b138b",
   "metadata": {},
   "outputs": [],
   "source": [
    "a = \"\"\n",
    "print(a,type(a))\n",
    "b = bool(a)\n",
    "print(b,type(b))"
   ]
  },
  {
   "cell_type": "code",
   "execution_count": null,
   "id": "ea05d3a0",
   "metadata": {},
   "outputs": [],
   "source": [
    "a = 10\n",
    "print(a,type(a))\n",
    "b = complex(a)\n",
    "print(b,type(b))"
   ]
  },
  {
   "cell_type": "code",
   "execution_count": null,
   "id": "258a3e9e",
   "metadata": {},
   "outputs": [],
   "source": [
    "a = 0.9\n",
    "print(a,type(a))\n",
    "b = complex(a)\n",
    "print(b,type(b))"
   ]
  },
  {
   "cell_type": "code",
   "execution_count": null,
   "id": "01bee102",
   "metadata": {},
   "outputs": [],
   "source": [
    "a = True\n",
    "print(a,type(a))\n",
    "b = complex(a)\n",
    "print(b,type(b))"
   ]
  },
  {
   "cell_type": "code",
   "execution_count": null,
   "id": "9b3e2fc7",
   "metadata": {},
   "outputs": [],
   "source": [
    "a = \"20j\"\n",
    "print(a,type(a))\n",
    "b = complex(a)\n",
    "print(b,type(b))"
   ]
  },
  {
   "cell_type": "code",
   "execution_count": null,
   "id": "cb1568b3",
   "metadata": {},
   "outputs": [],
   "source": [
    "a = \"abc\"\n",
    "print(a,type(a))\n",
    "b = complex(a)\n",
    "print(b,type(b))"
   ]
  },
  {
   "cell_type": "code",
   "execution_count": null,
   "id": "90569926",
   "metadata": {},
   "outputs": [],
   "source": [
    "a = 9+9j\n",
    "print(a,type(a))\n",
    "b = str(a)\n",
    "print(b,type(b))"
   ]
  },
  {
   "cell_type": "code",
   "execution_count": null,
   "id": "f4a119c1",
   "metadata": {},
   "outputs": [],
   "source": [
    "a = []"
   ]
  },
  {
   "cell_type": "code",
   "execution_count": null,
   "id": "b7e2d601",
   "metadata": {},
   "outputs": [],
   "source": [
    "a.pop()"
   ]
  },
  {
   "cell_type": "code",
   "execution_count": null,
   "id": "23c97e6f",
   "metadata": {},
   "outputs": [],
   "source": [
    "a= [0,1,2,3,4]"
   ]
  },
  {
   "cell_type": "code",
   "execution_count": null,
   "id": "e1a3ce77",
   "metadata": {},
   "outputs": [],
   "source": [
    "a.remove(2)"
   ]
  },
  {
   "cell_type": "code",
   "execution_count": null,
   "id": "adaa19a1",
   "metadata": {},
   "outputs": [],
   "source": [
    "a"
   ]
  },
  {
   "cell_type": "code",
   "execution_count": null,
   "id": "98701fe9",
   "metadata": {},
   "outputs": [],
   "source": [
    "a.remove(8)"
   ]
  },
  {
   "cell_type": "code",
   "execution_count": null,
   "id": "8dadedc0",
   "metadata": {},
   "outputs": [],
   "source": [
    "a.append(9)\n",
    "a"
   ]
  },
  {
   "cell_type": "code",
   "execution_count": null,
   "id": "8e0adc54",
   "metadata": {},
   "outputs": [],
   "source": [
    "del a[5]"
   ]
  },
  {
   "cell_type": "code",
   "execution_count": null,
   "id": "6934bd62",
   "metadata": {},
   "outputs": [],
   "source": [
    "a"
   ]
  },
  {
   "cell_type": "code",
   "execution_count": null,
   "id": "579820c0",
   "metadata": {},
   "outputs": [],
   "source": [
    "del a[0:2]"
   ]
  },
  {
   "cell_type": "code",
   "execution_count": null,
   "id": "dc719ff1",
   "metadata": {},
   "outputs": [],
   "source": [
    "a"
   ]
  },
  {
   "cell_type": "code",
   "execution_count": null,
   "id": "33600841",
   "metadata": {},
   "outputs": [],
   "source": [
    "del a"
   ]
  },
  {
   "cell_type": "code",
   "execution_count": null,
   "id": "14137c51",
   "metadata": {},
   "outputs": [],
   "source": [
    "a"
   ]
  },
  {
   "cell_type": "code",
   "execution_count": null,
   "id": "136ff4dd",
   "metadata": {},
   "outputs": [],
   "source": [
    "a = [0,1,2,3,4,45,6,7,8]"
   ]
  },
  {
   "cell_type": "code",
   "execution_count": null,
   "id": "19aa06d0",
   "metadata": {},
   "outputs": [],
   "source": [
    "b = a.copy()  # shallow copy"
   ]
  },
  {
   "cell_type": "code",
   "execution_count": null,
   "id": "dcf77646",
   "metadata": {},
   "outputs": [],
   "source": [
    "print(a,b,id(a),id(b))"
   ]
  },
  {
   "cell_type": "code",
   "execution_count": null,
   "id": "2629580f",
   "metadata": {},
   "outputs": [],
   "source": [
    "a.append(12)"
   ]
  },
  {
   "cell_type": "code",
   "execution_count": null,
   "id": "049df41e",
   "metadata": {},
   "outputs": [],
   "source": [
    "a"
   ]
  },
  {
   "cell_type": "code",
   "execution_count": null,
   "id": "b7dba14a",
   "metadata": {},
   "outputs": [],
   "source": [
    "b"
   ]
  },
  {
   "cell_type": "code",
   "execution_count": null,
   "id": "a5124392",
   "metadata": {},
   "outputs": [],
   "source": [
    "c = [1,2,3,4]"
   ]
  },
  {
   "cell_type": "code",
   "execution_count": null,
   "id": "1e3cb8a8",
   "metadata": {},
   "outputs": [],
   "source": [
    "d = c # deep copy"
   ]
  },
  {
   "cell_type": "code",
   "execution_count": null,
   "id": "4cf3bed8",
   "metadata": {},
   "outputs": [],
   "source": [
    "print(c,d,id(c),id(d))"
   ]
  },
  {
   "cell_type": "code",
   "execution_count": null,
   "id": "68261e42",
   "metadata": {},
   "outputs": [],
   "source": [
    "c.append(34)"
   ]
  },
  {
   "cell_type": "code",
   "execution_count": null,
   "id": "20240815",
   "metadata": {},
   "outputs": [],
   "source": [
    "c"
   ]
  },
  {
   "cell_type": "code",
   "execution_count": null,
   "id": "a7b3fb27",
   "metadata": {},
   "outputs": [],
   "source": [
    "d"
   ]
  },
  {
   "cell_type": "code",
   "execution_count": null,
   "id": "8a92767e",
   "metadata": {},
   "outputs": [],
   "source": [
    "d.append(\"KAran\")"
   ]
  },
  {
   "cell_type": "code",
   "execution_count": null,
   "id": "766bb130",
   "metadata": {},
   "outputs": [],
   "source": [
    "c"
   ]
  },
  {
   "cell_type": "code",
   "execution_count": null,
   "id": "3e2e1280",
   "metadata": {},
   "outputs": [],
   "source": [
    "d"
   ]
  },
  {
   "cell_type": "code",
   "execution_count": null,
   "id": "d3edc05c",
   "metadata": {},
   "outputs": [],
   "source": [
    "c.insert(3,\"Atharv\")"
   ]
  },
  {
   "cell_type": "code",
   "execution_count": null,
   "id": "88521327",
   "metadata": {},
   "outputs": [],
   "source": [
    "d"
   ]
  },
  {
   "cell_type": "code",
   "execution_count": null,
   "id": "570e2520",
   "metadata": {},
   "outputs": [],
   "source": [
    "e = [0,1,2,3,4]"
   ]
  },
  {
   "cell_type": "code",
   "execution_count": null,
   "id": "0ddfbf92",
   "metadata": {},
   "outputs": [],
   "source": [
    "f = e[0:2] #slicebased copy"
   ]
  },
  {
   "cell_type": "code",
   "execution_count": null,
   "id": "1ca5e5bd",
   "metadata": {},
   "outputs": [],
   "source": [
    "f"
   ]
  },
  {
   "cell_type": "code",
   "execution_count": null,
   "id": "7ed78acb",
   "metadata": {},
   "outputs": [],
   "source": [
    "a"
   ]
  },
  {
   "cell_type": "code",
   "execution_count": null,
   "id": "9cc1b038",
   "metadata": {},
   "outputs": [],
   "source": [
    "a.index(45)"
   ]
  },
  {
   "cell_type": "code",
   "execution_count": null,
   "id": "82fc66e1",
   "metadata": {},
   "outputs": [],
   "source": [
    "a.index(23)"
   ]
  },
  {
   "cell_type": "code",
   "execution_count": null,
   "id": "0e2f72b4",
   "metadata": {},
   "outputs": [],
   "source": [
    "a.count(4)"
   ]
  },
  {
   "cell_type": "code",
   "execution_count": null,
   "id": "253e48ee",
   "metadata": {},
   "outputs": [],
   "source": [
    "a.count(90)"
   ]
  },
  {
   "cell_type": "code",
   "execution_count": null,
   "id": "18699b26",
   "metadata": {},
   "outputs": [],
   "source": [
    "a"
   ]
  },
  {
   "cell_type": "code",
   "execution_count": null,
   "id": "ce10a705",
   "metadata": {},
   "outputs": [],
   "source": [
    "a.reverse()"
   ]
  },
  {
   "cell_type": "code",
   "execution_count": null,
   "id": "f3ef455d",
   "metadata": {},
   "outputs": [],
   "source": [
    "a"
   ]
  },
  {
   "cell_type": "code",
   "execution_count": null,
   "id": "cf530940",
   "metadata": {},
   "outputs": [],
   "source": [
    "a.sort()"
   ]
  },
  {
   "cell_type": "code",
   "execution_count": null,
   "id": "87289494",
   "metadata": {},
   "outputs": [],
   "source": [
    "a"
   ]
  },
  {
   "cell_type": "code",
   "execution_count": null,
   "id": "1e556ccc",
   "metadata": {},
   "outputs": [],
   "source": [
    "a.sort(reverse = True)"
   ]
  },
  {
   "cell_type": "code",
   "execution_count": null,
   "id": "1857924e",
   "metadata": {},
   "outputs": [],
   "source": [
    "a"
   ]
  },
  {
   "cell_type": "code",
   "execution_count": null,
   "id": "f75b6680",
   "metadata": {},
   "outputs": [],
   "source": [
    "a"
   ]
  },
  {
   "cell_type": "code",
   "execution_count": null,
   "id": "f4d4d42d",
   "metadata": {},
   "outputs": [],
   "source": [
    "b = [0,1,2]"
   ]
  },
  {
   "cell_type": "code",
   "execution_count": null,
   "id": "ca3083e9",
   "metadata": {},
   "outputs": [],
   "source": [
    "a.append(b)"
   ]
  },
  {
   "cell_type": "code",
   "execution_count": null,
   "id": "66b529ae",
   "metadata": {},
   "outputs": [],
   "source": [
    "a"
   ]
  },
  {
   "cell_type": "code",
   "execution_count": null,
   "id": "88344400",
   "metadata": {},
   "outputs": [],
   "source": [
    "a[-1][0]"
   ]
  },
  {
   "cell_type": "code",
   "execution_count": null,
   "id": "0cc85652",
   "metadata": {},
   "outputs": [],
   "source": [
    "a.pop()"
   ]
  },
  {
   "cell_type": "code",
   "execution_count": null,
   "id": "a01b3b7f",
   "metadata": {},
   "outputs": [],
   "source": [
    "a"
   ]
  },
  {
   "cell_type": "code",
   "execution_count": null,
   "id": "88feae2a",
   "metadata": {},
   "outputs": [],
   "source": [
    "a.extend(b)"
   ]
  },
  {
   "cell_type": "code",
   "execution_count": null,
   "id": "28a57c9d",
   "metadata": {},
   "outputs": [],
   "source": [
    "a"
   ]
  },
  {
   "cell_type": "code",
   "execution_count": null,
   "id": "df494af8",
   "metadata": {},
   "outputs": [],
   "source": [
    "a[-1]"
   ]
  },
  {
   "cell_type": "code",
   "execution_count": null,
   "id": "1fd9a33d",
   "metadata": {},
   "outputs": [],
   "source": [
    "a.insert(b)"
   ]
  },
  {
   "cell_type": "code",
   "execution_count": null,
   "id": "2fbce3e8",
   "metadata": {},
   "outputs": [],
   "source": [
    "a"
   ]
  },
  {
   "cell_type": "code",
   "execution_count": null,
   "id": "47a1cb09",
   "metadata": {},
   "outputs": [],
   "source": [
    "a + b"
   ]
  },
  {
   "cell_type": "code",
   "execution_count": null,
   "id": "eb072224",
   "metadata": {},
   "outputs": [],
   "source": [
    "c = [0,1,2]"
   ]
  },
  {
   "cell_type": "code",
   "execution_count": null,
   "id": "2152cda6",
   "metadata": {},
   "outputs": [],
   "source": [
    "d = [3,4,5]"
   ]
  },
  {
   "cell_type": "code",
   "execution_count": null,
   "id": "858ef2cd",
   "metadata": {},
   "outputs": [],
   "source": [
    "c + d"
   ]
  },
  {
   "cell_type": "code",
   "execution_count": null,
   "id": "9fcb3c3b",
   "metadata": {},
   "outputs": [],
   "source": [
    "a"
   ]
  },
  {
   "cell_type": "code",
   "execution_count": null,
   "id": "c9d746b9",
   "metadata": {},
   "outputs": [],
   "source": [
    "c"
   ]
  },
  {
   "cell_type": "code",
   "execution_count": null,
   "id": "234edf7c",
   "metadata": {},
   "outputs": [],
   "source": [
    "a = tuple(c)"
   ]
  },
  {
   "cell_type": "code",
   "execution_count": null,
   "id": "88b7335d",
   "metadata": {},
   "outputs": [],
   "source": [
    "a"
   ]
  },
  {
   "cell_type": "code",
   "execution_count": null,
   "id": "a543ccc6",
   "metadata": {},
   "outputs": [],
   "source": [
    "a = ()"
   ]
  },
  {
   "cell_type": "code",
   "execution_count": null,
   "id": "c16f7866",
   "metadata": {},
   "outputs": [],
   "source": [
    "a = (0,1,2,3)"
   ]
  },
  {
   "cell_type": "code",
   "execution_count": null,
   "id": "e1a0b859",
   "metadata": {},
   "outputs": [],
   "source": [
    "a = (0,1,2,3,8,9,92,\"Atharv\",\"Karan\",\"Anshul\")"
   ]
  },
  {
   "cell_type": "code",
   "execution_count": null,
   "id": "7548556d",
   "metadata": {},
   "outputs": [],
   "source": [
    "a[0+34-9*4]"
   ]
  },
  {
   "cell_type": "code",
   "execution_count": null,
   "id": "e383911e",
   "metadata": {},
   "outputs": [],
   "source": [
    "a[-1]"
   ]
  },
  {
   "cell_type": "code",
   "execution_count": null,
   "id": "06ab3868",
   "metadata": {},
   "outputs": [],
   "source": [
    "a[0:34]"
   ]
  },
  {
   "cell_type": "code",
   "execution_count": null,
   "id": "5b250446",
   "metadata": {},
   "outputs": [],
   "source": [
    "a"
   ]
  },
  {
   "cell_type": "code",
   "execution_count": null,
   "id": "76c1fee9",
   "metadata": {},
   "outputs": [],
   "source": [
    "b = a.copy()"
   ]
  },
  {
   "cell_type": "code",
   "execution_count": null,
   "id": "a9ad1cf5",
   "metadata": {},
   "outputs": [],
   "source": [
    "b = a"
   ]
  },
  {
   "cell_type": "code",
   "execution_count": null,
   "id": "6b876991",
   "metadata": {},
   "outputs": [],
   "source": [
    "b"
   ]
  },
  {
   "cell_type": "code",
   "execution_count": null,
   "id": "141e33a0",
   "metadata": {},
   "outputs": [],
   "source": [
    "print(id(a),id(b))"
   ]
  },
  {
   "cell_type": "code",
   "execution_count": null,
   "id": "56f8fcf2",
   "metadata": {},
   "outputs": [],
   "source": [
    "a.index(\"Anshul\")"
   ]
  },
  {
   "cell_type": "code",
   "execution_count": null,
   "id": "1f867d44",
   "metadata": {},
   "outputs": [],
   "source": [
    "a.count(8)"
   ]
  },
  {
   "cell_type": "code",
   "execution_count": null,
   "id": "78b1a331",
   "metadata": {},
   "outputs": [],
   "source": [
    "a = (1,2,3,9,(9,8,7),9,8,7)"
   ]
  },
  {
   "cell_type": "code",
   "execution_count": null,
   "id": "84b308a9",
   "metadata": {},
   "outputs": [],
   "source": [
    "a"
   ]
  },
  {
   "cell_type": "code",
   "execution_count": null,
   "id": "1af0a1e9",
   "metadata": {},
   "outputs": [],
   "source": [
    "a[4]"
   ]
  },
  {
   "cell_type": "code",
   "execution_count": null,
   "id": "4969fbcd",
   "metadata": {},
   "outputs": [],
   "source": [
    "b = [0,1,2,3]"
   ]
  },
  {
   "cell_type": "code",
   "execution_count": null,
   "id": "c5ac04c6",
   "metadata": {},
   "outputs": [],
   "source": [
    "b.append(a[4])"
   ]
  },
  {
   "cell_type": "code",
   "execution_count": null,
   "id": "69ec7a1b",
   "metadata": {},
   "outputs": [],
   "source": [
    "b"
   ]
  },
  {
   "cell_type": "code",
   "execution_count": null,
   "id": "2b7d834d",
   "metadata": {},
   "outputs": [],
   "source": [
    "b[-1]"
   ]
  },
  {
   "cell_type": "code",
   "execution_count": null,
   "id": "c755382e",
   "metadata": {},
   "outputs": [],
   "source": [
    "a = (0,1,2,[0,7,8],9,7,6)"
   ]
  },
  {
   "cell_type": "code",
   "execution_count": null,
   "id": "9b906357",
   "metadata": {},
   "outputs": [],
   "source": [
    "a"
   ]
  },
  {
   "cell_type": "code",
   "execution_count": null,
   "id": "0cb5358f",
   "metadata": {},
   "outputs": [],
   "source": [
    "a[3].append(5)"
   ]
  },
  {
   "cell_type": "code",
   "execution_count": null,
   "id": "4bd1a283",
   "metadata": {},
   "outputs": [],
   "source": [
    "a"
   ]
  },
  {
   "cell_type": "code",
   "execution_count": null,
   "id": "ee5aac0c",
   "metadata": {},
   "outputs": [],
   "source": [
    "a = (0,1,2)"
   ]
  },
  {
   "cell_type": "code",
   "execution_count": null,
   "id": "3854bc69",
   "metadata": {},
   "outputs": [],
   "source": [
    "b = (0,1,2)"
   ]
  },
  {
   "cell_type": "code",
   "execution_count": null,
   "id": "b3d1ad8b",
   "metadata": {},
   "outputs": [],
   "source": [
    "c = a+b"
   ]
  },
  {
   "cell_type": "code",
   "execution_count": null,
   "id": "0a32e3cc",
   "metadata": {},
   "outputs": [],
   "source": [
    "c"
   ]
  },
  {
   "cell_type": "code",
   "execution_count": null,
   "id": "4696f7c2",
   "metadata": {},
   "outputs": [],
   "source": [
    "a = a+b"
   ]
  },
  {
   "cell_type": "code",
   "execution_count": null,
   "id": "3378968f",
   "metadata": {},
   "outputs": [],
   "source": [
    "a"
   ]
  },
  {
   "cell_type": "code",
   "execution_count": null,
   "id": "f23c0e07",
   "metadata": {},
   "outputs": [],
   "source": [
    "a = [0,1,2]\n",
    "print(id(a))"
   ]
  },
  {
   "cell_type": "code",
   "execution_count": null,
   "id": "38796607",
   "metadata": {},
   "outputs": [],
   "source": [
    "a = [9,2,3]\n",
    "print(id(a))"
   ]
  },
  {
   "cell_type": "code",
   "execution_count": null,
   "id": "a30d01ec",
   "metadata": {},
   "outputs": [],
   "source": [
    "a"
   ]
  },
  {
   "cell_type": "code",
   "execution_count": null,
   "id": "b018c16f",
   "metadata": {},
   "outputs": [],
   "source": [
    "a"
   ]
  },
  {
   "cell_type": "code",
   "execution_count": null,
   "id": "d72895cf",
   "metadata": {},
   "outputs": [],
   "source": [
    "a = (1,2,3,4,[1,2,3,45],4,5)"
   ]
  },
  {
   "cell_type": "code",
   "execution_count": null,
   "id": "4433971d",
   "metadata": {},
   "outputs": [],
   "source": [
    "a[-3].append(4)"
   ]
  },
  {
   "cell_type": "code",
   "execution_count": null,
   "id": "9272e70e",
   "metadata": {},
   "outputs": [],
   "source": [
    "a"
   ]
  },
  {
   "cell_type": "code",
   "execution_count": null,
   "id": "e97bed83",
   "metadata": {},
   "outputs": [],
   "source": [
    "a[-3].sort()"
   ]
  },
  {
   "cell_type": "code",
   "execution_count": null,
   "id": "ccf8e44f",
   "metadata": {},
   "outputs": [],
   "source": [
    "a"
   ]
  },
  {
   "cell_type": "code",
   "execution_count": null,
   "id": "e9570bd6",
   "metadata": {},
   "outputs": [],
   "source": [
    "a = [0,1,2,3,4,5]"
   ]
  },
  {
   "cell_type": "code",
   "execution_count": null,
   "id": "994ae19d",
   "metadata": {},
   "outputs": [],
   "source": [
    "b = a.copy()"
   ]
  },
  {
   "cell_type": "code",
   "execution_count": null,
   "id": "d85f628c",
   "metadata": {},
   "outputs": [],
   "source": [
    "b.append(3)"
   ]
  },
  {
   "cell_type": "code",
   "execution_count": null,
   "id": "838dca25",
   "metadata": {},
   "outputs": [],
   "source": [
    "a"
   ]
  },
  {
   "cell_type": "code",
   "execution_count": null,
   "id": "713a0ff9",
   "metadata": {},
   "outputs": [],
   "source": [
    "b"
   ]
  },
  {
   "cell_type": "code",
   "execution_count": null,
   "id": "2c4e3b0f",
   "metadata": {},
   "outputs": [],
   "source": [
    "a"
   ]
  },
  {
   "cell_type": "code",
   "execution_count": null,
   "id": "a6321cac",
   "metadata": {},
   "outputs": [],
   "source": [
    "a[1]=10 # item assignment"
   ]
  },
  {
   "cell_type": "code",
   "execution_count": null,
   "id": "56d87bf0",
   "metadata": {},
   "outputs": [],
   "source": [
    "a = {} "
   ]
  },
  {
   "cell_type": "code",
   "execution_count": null,
   "id": "0fe0246d",
   "metadata": {},
   "outputs": [],
   "source": [
    "print(type(a))"
   ]
  },
  {
   "cell_type": "code",
   "execution_count": null,
   "id": "d3f4f3e2",
   "metadata": {},
   "outputs": [],
   "source": [
    "a = set()"
   ]
  },
  {
   "cell_type": "code",
   "execution_count": null,
   "id": "93140d49",
   "metadata": {},
   "outputs": [],
   "source": [
    "print(type(a))"
   ]
  },
  {
   "cell_type": "code",
   "execution_count": null,
   "id": "44690de2",
   "metadata": {},
   "outputs": [],
   "source": [
    "a"
   ]
  },
  {
   "cell_type": "code",
   "execution_count": null,
   "id": "3fd4c341",
   "metadata": {},
   "outputs": [],
   "source": [
    "b = set(a)"
   ]
  },
  {
   "cell_type": "code",
   "execution_count": null,
   "id": "9f6ab312",
   "metadata": {},
   "outputs": [],
   "source": [
    "b"
   ]
  },
  {
   "cell_type": "code",
   "execution_count": null,
   "id": "04c6b255",
   "metadata": {},
   "outputs": [],
   "source": [
    "a = {1,2,3,4,5,6}"
   ]
  },
  {
   "cell_type": "code",
   "execution_count": null,
   "id": "fac9cb9e",
   "metadata": {},
   "outputs": [],
   "source": [
    "print(a,type(a))"
   ]
  },
  {
   "cell_type": "code",
   "execution_count": null,
   "id": "2ca9a813",
   "metadata": {},
   "outputs": [],
   "source": [
    "a = {56,23,12,47,-90,445,56,\"Bharat\",\"Ataharv\",True}"
   ]
  },
  {
   "cell_type": "code",
   "execution_count": null,
   "id": "c47c75f4",
   "metadata": {},
   "outputs": [],
   "source": [
    "a = list(a)"
   ]
  },
  {
   "cell_type": "code",
   "execution_count": null,
   "id": "c619ce5d",
   "metadata": {},
   "outputs": [],
   "source": [
    "print(a)"
   ]
  },
  {
   "cell_type": "code",
   "execution_count": null,
   "id": "d2cbdcd9",
   "metadata": {},
   "outputs": [],
   "source": [
    "a.add(\"Anshul\")"
   ]
  },
  {
   "cell_type": "code",
   "execution_count": null,
   "id": "7951ea19",
   "metadata": {},
   "outputs": [],
   "source": [
    "a"
   ]
  },
  {
   "cell_type": "code",
   "execution_count": null,
   "id": "67d4eb3a",
   "metadata": {},
   "outputs": [],
   "source": [
    "a.remove(47)"
   ]
  },
  {
   "cell_type": "code",
   "execution_count": null,
   "id": "fe606657",
   "metadata": {},
   "outputs": [],
   "source": [
    "a"
   ]
  },
  {
   "cell_type": "code",
   "execution_count": null,
   "id": "e3be8b64",
   "metadata": {},
   "outputs": [],
   "source": [
    "a.remove(89)"
   ]
  },
  {
   "cell_type": "code",
   "execution_count": null,
   "id": "c3fd0001",
   "metadata": {},
   "outputs": [],
   "source": [
    "a.discard(56)"
   ]
  },
  {
   "cell_type": "code",
   "execution_count": null,
   "id": "2e9fc143",
   "metadata": {},
   "outputs": [],
   "source": [
    "a"
   ]
  },
  {
   "cell_type": "code",
   "execution_count": null,
   "id": "39cf11ea",
   "metadata": {},
   "outputs": [],
   "source": [
    "a.discard(98)"
   ]
  },
  {
   "cell_type": "code",
   "execution_count": null,
   "id": "362b796f",
   "metadata": {},
   "outputs": [],
   "source": [
    "a.pop()"
   ]
  },
  {
   "cell_type": "code",
   "execution_count": null,
   "id": "a628c226",
   "metadata": {},
   "outputs": [],
   "source": [
    "b =set()"
   ]
  },
  {
   "cell_type": "code",
   "execution_count": null,
   "id": "dd213b94",
   "metadata": {},
   "outputs": [],
   "source": [
    "b.pop()"
   ]
  },
  {
   "cell_type": "code",
   "execution_count": null,
   "id": "536391ab",
   "metadata": {},
   "outputs": [],
   "source": [
    "b = a.copy()"
   ]
  },
  {
   "cell_type": "code",
   "execution_count": null,
   "id": "cff2cbca",
   "metadata": {},
   "outputs": [],
   "source": [
    "b"
   ]
  },
  {
   "cell_type": "code",
   "execution_count": null,
   "id": "ec2aabd6",
   "metadata": {},
   "outputs": [],
   "source": [
    "a.add(9)"
   ]
  },
  {
   "cell_type": "code",
   "execution_count": null,
   "id": "8f5ccd44",
   "metadata": {},
   "outputs": [],
   "source": [
    "b"
   ]
  },
  {
   "cell_type": "code",
   "execution_count": null,
   "id": "560c2b8a",
   "metadata": {},
   "outputs": [],
   "source": [
    "a"
   ]
  },
  {
   "cell_type": "code",
   "execution_count": null,
   "id": "3b88cd8f",
   "metadata": {},
   "outputs": [],
   "source": [
    "b = a"
   ]
  },
  {
   "cell_type": "code",
   "execution_count": null,
   "id": "a6dd1955",
   "metadata": {},
   "outputs": [],
   "source": [
    "a.add(909)"
   ]
  },
  {
   "cell_type": "code",
   "execution_count": null,
   "id": "96ef3791",
   "metadata": {},
   "outputs": [],
   "source": [
    "b"
   ]
  },
  {
   "cell_type": "code",
   "execution_count": null,
   "id": "3e8d3c59",
   "metadata": {},
   "outputs": [],
   "source": [
    "a"
   ]
  },
  {
   "cell_type": "code",
   "execution_count": null,
   "id": "c8ab41fa",
   "metadata": {},
   "outputs": [],
   "source": [
    "b = {\"1\",\"2\",\"3\",\"4\"}"
   ]
  },
  {
   "cell_type": "code",
   "execution_count": null,
   "id": "45b20f17",
   "metadata": {},
   "outputs": [],
   "source": [
    "a.isdisjoint(b)"
   ]
  },
  {
   "cell_type": "code",
   "execution_count": null,
   "id": "b98f83fa",
   "metadata": {},
   "outputs": [],
   "source": [
    "c = {9,\"uthygk\",\"90898\"}"
   ]
  },
  {
   "cell_type": "code",
   "execution_count": null,
   "id": "42dce427",
   "metadata": {},
   "outputs": [],
   "source": [
    "a.isdisjoint(c)"
   ]
  },
  {
   "cell_type": "code",
   "execution_count": null,
   "id": "5cb171e0",
   "metadata": {},
   "outputs": [],
   "source": [
    "d = {12,9,23}"
   ]
  },
  {
   "cell_type": "code",
   "execution_count": null,
   "id": "3a2534c4",
   "metadata": {},
   "outputs": [],
   "source": [
    "a.issubset(d)"
   ]
  },
  {
   "cell_type": "code",
   "execution_count": null,
   "id": "a89ae2f8",
   "metadata": {},
   "outputs": [],
   "source": [
    "d.issubset(a)"
   ]
  },
  {
   "cell_type": "code",
   "execution_count": null,
   "id": "9bb3fb7a",
   "metadata": {},
   "outputs": [],
   "source": [
    "a.issuperset(d)"
   ]
  },
  {
   "cell_type": "code",
   "execution_count": null,
   "id": "be8c1608",
   "metadata": {},
   "outputs": [],
   "source": [
    "d.issuperset(a)"
   ]
  },
  {
   "cell_type": "code",
   "execution_count": null,
   "id": "711a53cb",
   "metadata": {},
   "outputs": [],
   "source": [
    "a"
   ]
  },
  {
   "cell_type": "code",
   "execution_count": null,
   "id": "501a607c",
   "metadata": {},
   "outputs": [],
   "source": [
    "a.union(c)"
   ]
  },
  {
   "cell_type": "code",
   "execution_count": null,
   "id": "1ed1336b",
   "metadata": {},
   "outputs": [],
   "source": [
    "a.intersection(d)"
   ]
  },
  {
   "cell_type": "code",
   "execution_count": null,
   "id": "d4597737",
   "metadata": {},
   "outputs": [],
   "source": [
    "d.intersection(a)"
   ]
  },
  {
   "cell_type": "code",
   "execution_count": null,
   "id": "38d848bb",
   "metadata": {},
   "outputs": [],
   "source": [
    "d.difference(a)"
   ]
  },
  {
   "cell_type": "code",
   "execution_count": null,
   "id": "76803e7d",
   "metadata": {},
   "outputs": [],
   "source": [
    "print(a,d)"
   ]
  },
  {
   "cell_type": "code",
   "execution_count": null,
   "id": "fab609b5",
   "metadata": {},
   "outputs": [],
   "source": [
    "b=a.difference(d)"
   ]
  },
  {
   "cell_type": "code",
   "execution_count": null,
   "id": "12b80601",
   "metadata": {},
   "outputs": [],
   "source": [
    "d.symmetric_difference(a)"
   ]
  },
  {
   "cell_type": "code",
   "execution_count": null,
   "id": "a2160bcc",
   "metadata": {},
   "outputs": [],
   "source": [
    "a.symmetric_difference(d)"
   ]
  },
  {
   "cell_type": "code",
   "execution_count": null,
   "id": "8332b9ae",
   "metadata": {},
   "outputs": [],
   "source": [
    "b"
   ]
  },
  {
   "cell_type": "code",
   "execution_count": null,
   "id": "c4860525",
   "metadata": {},
   "outputs": [],
   "source": [
    "c"
   ]
  },
  {
   "cell_type": "code",
   "execution_count": null,
   "id": "4d14e0f1",
   "metadata": {},
   "outputs": [],
   "source": [
    "f=b.update(c)"
   ]
  },
  {
   "cell_type": "code",
   "execution_count": null,
   "id": "339c4638",
   "metadata": {},
   "outputs": [],
   "source": [
    "c"
   ]
  },
  {
   "cell_type": "code",
   "execution_count": null,
   "id": "c79cc8b2",
   "metadata": {},
   "outputs": [],
   "source": [
    "b"
   ]
  },
  {
   "cell_type": "code",
   "execution_count": null,
   "id": "4559a67d",
   "metadata": {},
   "outputs": [],
   "source": [
    "b"
   ]
  },
  {
   "cell_type": "code",
   "execution_count": null,
   "id": "794343b1",
   "metadata": {},
   "outputs": [],
   "source": [
    "type(f)"
   ]
  },
  {
   "cell_type": "code",
   "execution_count": null,
   "id": "72dd5eae",
   "metadata": {},
   "outputs": [],
   "source": [
    "f"
   ]
  },
  {
   "cell_type": "code",
   "execution_count": null,
   "id": "4704f009",
   "metadata": {},
   "outputs": [],
   "source": [
    "d=\" \""
   ]
  },
  {
   "cell_type": "code",
   "execution_count": null,
   "id": "1e4e8b4a",
   "metadata": {},
   "outputs": [],
   "source": [
    "d = \"\""
   ]
  },
  {
   "cell_type": "code",
   "execution_count": null,
   "id": "a216ea71",
   "metadata": {},
   "outputs": [],
   "source": [
    "d"
   ]
  },
  {
   "cell_type": "code",
   "execution_count": null,
   "id": "79ec21b8",
   "metadata": {},
   "outputs": [],
   "source": [
    "a"
   ]
  },
  {
   "cell_type": "code",
   "execution_count": null,
   "id": "2e8f5db8",
   "metadata": {},
   "outputs": [],
   "source": [
    "a[7]=90"
   ]
  },
  {
   "cell_type": "code",
   "execution_count": null,
   "id": "9513595b",
   "metadata": {},
   "outputs": [],
   "source": [
    "print(a,type(a))"
   ]
  },
  {
   "cell_type": "code",
   "execution_count": null,
   "id": "b365806a",
   "metadata": {},
   "outputs": [],
   "source": [
    "b = frozenset(a)"
   ]
  },
  {
   "cell_type": "code",
   "execution_count": null,
   "id": "2e0f5e98",
   "metadata": {},
   "outputs": [],
   "source": [
    "print(b,type(b))"
   ]
  },
  {
   "cell_type": "code",
   "execution_count": null,
   "id": "be32d95d",
   "metadata": {},
   "outputs": [],
   "source": [
    "b"
   ]
  },
  {
   "cell_type": "code",
   "execution_count": null,
   "id": "a7c1adc2",
   "metadata": {},
   "outputs": [],
   "source": [
    "a.difference(d)"
   ]
  },
  {
   "cell_type": "code",
   "execution_count": null,
   "id": "e4f30d71",
   "metadata": {},
   "outputs": [],
   "source": [
    "a"
   ]
  },
  {
   "cell_type": "markdown",
   "id": "9e12c481",
   "metadata": {},
   "source": [
    "# Dict Data type"
   ]
  },
  {
   "cell_type": "code",
   "execution_count": null,
   "id": "fdb2c061",
   "metadata": {},
   "outputs": [],
   "source": [
    "a = {} #empty set"
   ]
  },
  {
   "cell_type": "code",
   "execution_count": null,
   "id": "4d3cb014",
   "metadata": {},
   "outputs": [],
   "source": [
    "a[0]=30"
   ]
  },
  {
   "cell_type": "code",
   "execution_count": null,
   "id": "574b6a3e",
   "metadata": {},
   "outputs": [],
   "source": [
    "a"
   ]
  },
  {
   "cell_type": "code",
   "execution_count": null,
   "id": "6ea5d5aa",
   "metadata": {},
   "outputs": [],
   "source": [
    "a[\"Atharv\"]=908"
   ]
  },
  {
   "cell_type": "code",
   "execution_count": null,
   "id": "e17da4b1",
   "metadata": {},
   "outputs": [],
   "source": [
    "a"
   ]
  },
  {
   "cell_type": "code",
   "execution_count": null,
   "id": "5a000021",
   "metadata": {},
   "outputs": [],
   "source": [
    "a = {1:2,2:3}"
   ]
  },
  {
   "cell_type": "code",
   "execution_count": null,
   "id": "dd676ea1",
   "metadata": {},
   "outputs": [],
   "source": [
    "a"
   ]
  },
  {
   "cell_type": "code",
   "execution_count": null,
   "id": "34813d0b",
   "metadata": {},
   "outputs": [],
   "source": [
    "a[2]=8"
   ]
  },
  {
   "cell_type": "code",
   "execution_count": null,
   "id": "461faacc",
   "metadata": {},
   "outputs": [],
   "source": [
    "a"
   ]
  },
  {
   "cell_type": "code",
   "execution_count": null,
   "id": "317c23bf",
   "metadata": {},
   "outputs": [],
   "source": [
    "a[3]=2"
   ]
  },
  {
   "cell_type": "code",
   "execution_count": null,
   "id": "beccf1c1",
   "metadata": {},
   "outputs": [],
   "source": [
    "a"
   ]
  },
  {
   "cell_type": "code",
   "execution_count": null,
   "id": "b71aa3d8",
   "metadata": {},
   "outputs": [],
   "source": [
    "a={1:2,2:3}"
   ]
  },
  {
   "cell_type": "code",
   "execution_count": null,
   "id": "5bfbd044",
   "metadata": {},
   "outputs": [],
   "source": [
    "a"
   ]
  },
  {
   "cell_type": "code",
   "execution_count": null,
   "id": "9fa7f60a",
   "metadata": {},
   "outputs": [],
   "source": [
    "a[1]"
   ]
  },
  {
   "cell_type": "code",
   "execution_count": null,
   "id": "6dce7c7a",
   "metadata": {},
   "outputs": [],
   "source": [
    "a"
   ]
  },
  {
   "cell_type": "code",
   "execution_count": null,
   "id": "f1dea5ad",
   "metadata": {},
   "outputs": [],
   "source": [
    "a[\"Atharv\"]"
   ]
  },
  {
   "cell_type": "code",
   "execution_count": null,
   "id": "d24b86ca",
   "metadata": {},
   "outputs": [],
   "source": [
    "a = [9,6,8,2,3,4,1,56,2]"
   ]
  },
  {
   "cell_type": "code",
   "execution_count": null,
   "id": "48c712e2",
   "metadata": {},
   "outputs": [],
   "source": [
    "a=set(a)"
   ]
  },
  {
   "cell_type": "code",
   "execution_count": null,
   "id": "a7fde921",
   "metadata": {},
   "outputs": [],
   "source": [
    "a"
   ]
  },
  {
   "cell_type": "code",
   "execution_count": null,
   "id": "ea5666aa",
   "metadata": {},
   "outputs": [],
   "source": [
    "a = list(a)"
   ]
  },
  {
   "cell_type": "code",
   "execution_count": null,
   "id": "bb146e53",
   "metadata": {},
   "outputs": [],
   "source": [
    "a"
   ]
  },
  {
   "cell_type": "code",
   "execution_count": null,
   "id": "38cc4491",
   "metadata": {},
   "outputs": [],
   "source": [
    "a = a[::-1]"
   ]
  },
  {
   "cell_type": "code",
   "execution_count": null,
   "id": "d44731c2",
   "metadata": {},
   "outputs": [],
   "source": [
    "a"
   ]
  },
  {
   "cell_type": "code",
   "execution_count": null,
   "id": "519a79a6",
   "metadata": {},
   "outputs": [],
   "source": [
    "a = range(26,195,2)"
   ]
  },
  {
   "cell_type": "code",
   "execution_count": null,
   "id": "5c7f9dc6",
   "metadata": {},
   "outputs": [],
   "source": [
    "a = list(a)"
   ]
  },
  {
   "cell_type": "code",
   "execution_count": null,
   "id": "a68b7ff5",
   "metadata": {},
   "outputs": [],
   "source": [
    "a"
   ]
  },
  {
   "cell_type": "markdown",
   "id": "03719cd7",
   "metadata": {},
   "source": [
    "# dict predefined functions"
   ]
  },
  {
   "cell_type": "code",
   "execution_count": null,
   "id": "fb81039f",
   "metadata": {},
   "outputs": [],
   "source": [
    "a = (0,1,2)"
   ]
  },
  {
   "cell_type": "code",
   "execution_count": null,
   "id": "20919872",
   "metadata": {},
   "outputs": [],
   "source": [
    "print(a,type(a))"
   ]
  },
  {
   "cell_type": "code",
   "execution_count": null,
   "id": "aa473166",
   "metadata": {},
   "outputs": [],
   "source": [
    "a = (1,2,3)"
   ]
  },
  {
   "cell_type": "code",
   "execution_count": null,
   "id": "74a04dc5",
   "metadata": {},
   "outputs": [],
   "source": [
    "print(a,type(a))"
   ]
  },
  {
   "cell_type": "code",
   "execution_count": null,
   "id": "58a10f9d",
   "metadata": {},
   "outputs": [],
   "source": [
    "a = {}  #empty dict"
   ]
  },
  {
   "cell_type": "code",
   "execution_count": null,
   "id": "c9829efb",
   "metadata": {},
   "outputs": [],
   "source": [
    "a[0]=1\n",
    "a"
   ]
  },
  {
   "cell_type": "code",
   "execution_count": null,
   "id": "34d7cb76",
   "metadata": {},
   "outputs": [],
   "source": [
    "a[0]=3"
   ]
  },
  {
   "cell_type": "code",
   "execution_count": null,
   "id": "4d74bf39",
   "metadata": {},
   "outputs": [],
   "source": [
    "a"
   ]
  },
  {
   "cell_type": "code",
   "execution_count": null,
   "id": "c9fbd038",
   "metadata": {},
   "outputs": [],
   "source": [
    "a = {1:2,2:3}   #non-empty dict"
   ]
  },
  {
   "cell_type": "code",
   "execution_count": null,
   "id": "f4caa216",
   "metadata": {},
   "outputs": [],
   "source": [
    "a"
   ]
  },
  {
   "cell_type": "code",
   "execution_count": null,
   "id": "f44377aa",
   "metadata": {},
   "outputs": [],
   "source": [
    "a.clear()   #to clear contents"
   ]
  },
  {
   "cell_type": "code",
   "execution_count": null,
   "id": "eab9da35",
   "metadata": {},
   "outputs": [],
   "source": [
    "a"
   ]
  },
  {
   "cell_type": "code",
   "execution_count": null,
   "id": "d4d57b4d",
   "metadata": {},
   "outputs": [],
   "source": [
    "a = {1:2,2:2,3:4,4:5,5:6,\"Atharv\":\"Anshul\"}"
   ]
  },
  {
   "cell_type": "code",
   "execution_count": null,
   "id": "81f6e0e7",
   "metadata": {},
   "outputs": [],
   "source": [
    "a"
   ]
  },
  {
   "cell_type": "code",
   "execution_count": null,
   "id": "f51bcc51",
   "metadata": {},
   "outputs": [],
   "source": [
    "a.pop(3)   #take key to remove key-value"
   ]
  },
  {
   "cell_type": "code",
   "execution_count": null,
   "id": "8aff65c7",
   "metadata": {},
   "outputs": [],
   "source": [
    "a"
   ]
  },
  {
   "cell_type": "code",
   "execution_count": null,
   "id": "be2f6056",
   "metadata": {},
   "outputs": [],
   "source": [
    "a.pop(9)"
   ]
  },
  {
   "cell_type": "code",
   "execution_count": null,
   "id": "d293b4b9",
   "metadata": {},
   "outputs": [],
   "source": [
    "a.pop(\"Atharv\")"
   ]
  },
  {
   "cell_type": "code",
   "execution_count": null,
   "id": "3f493203",
   "metadata": {},
   "outputs": [],
   "source": [
    "a"
   ]
  },
  {
   "cell_type": "code",
   "execution_count": null,
   "id": "d60098dd",
   "metadata": {},
   "outputs": [],
   "source": [
    "a.pop()"
   ]
  },
  {
   "cell_type": "code",
   "execution_count": null,
   "id": "9e5b45c6",
   "metadata": {},
   "outputs": [],
   "source": [
    "a.popitem()   #popitem to pop out last key-value pair"
   ]
  },
  {
   "cell_type": "code",
   "execution_count": null,
   "id": "3d64df38",
   "metadata": {},
   "outputs": [],
   "source": [
    "a.popitem(2)"
   ]
  },
  {
   "cell_type": "code",
   "execution_count": null,
   "id": "a110864a",
   "metadata": {},
   "outputs": [],
   "source": [
    "b={}"
   ]
  },
  {
   "cell_type": "code",
   "execution_count": null,
   "id": "255773d0",
   "metadata": {},
   "outputs": [],
   "source": [
    "b.popitem()   #on empty dict"
   ]
  },
  {
   "cell_type": "code",
   "execution_count": null,
   "id": "6d92239f",
   "metadata": {},
   "outputs": [],
   "source": [
    "a"
   ]
  },
  {
   "cell_type": "code",
   "execution_count": null,
   "id": "a839f6e0",
   "metadata": {},
   "outputs": [],
   "source": [
    "c = a.copy()    #shallow copy "
   ]
  },
  {
   "cell_type": "code",
   "execution_count": null,
   "id": "84b4aa5f",
   "metadata": {},
   "outputs": [],
   "source": [
    "print(a,c,id(a),id(c))"
   ]
  },
  {
   "cell_type": "code",
   "execution_count": null,
   "id": "e17a5e9d",
   "metadata": {},
   "outputs": [],
   "source": [
    "d = a     #deep copy"
   ]
  },
  {
   "cell_type": "code",
   "execution_count": null,
   "id": "5be6c1c8",
   "metadata": {},
   "outputs": [],
   "source": [
    "print(a,d,id(a),id(d))"
   ]
  },
  {
   "cell_type": "code",
   "execution_count": null,
   "id": "b166974b",
   "metadata": {},
   "outputs": [],
   "source": [
    "a[9]=34"
   ]
  },
  {
   "cell_type": "code",
   "execution_count": null,
   "id": "974c8503",
   "metadata": {},
   "outputs": [],
   "source": [
    "a"
   ]
  },
  {
   "cell_type": "code",
   "execution_count": null,
   "id": "2d7847ef",
   "metadata": {},
   "outputs": [],
   "source": [
    "c"
   ]
  },
  {
   "cell_type": "code",
   "execution_count": null,
   "id": "5ca21fd8",
   "metadata": {},
   "outputs": [],
   "source": [
    "d"
   ]
  },
  {
   "cell_type": "code",
   "execution_count": null,
   "id": "30863e8b",
   "metadata": {},
   "outputs": [],
   "source": [
    "a"
   ]
  },
  {
   "cell_type": "code",
   "execution_count": null,
   "id": "51fa99f1",
   "metadata": {},
   "outputs": [],
   "source": [
    "a.get(4)    #get fucntion will give value of value by calling value of key"
   ]
  },
  {
   "cell_type": "code",
   "execution_count": null,
   "id": "0f404c06",
   "metadata": {},
   "outputs": [],
   "source": [
    "a.get(23)"
   ]
  },
  {
   "cell_type": "code",
   "execution_count": null,
   "id": "4a2a0056",
   "metadata": {},
   "outputs": [],
   "source": [
    "a"
   ]
  },
  {
   "cell_type": "code",
   "execution_count": null,
   "id": "ef75a337",
   "metadata": {},
   "outputs": [],
   "source": [
    "e=a.get(9)"
   ]
  },
  {
   "cell_type": "code",
   "execution_count": null,
   "id": "98b67f94",
   "metadata": {},
   "outputs": [],
   "source": [
    "e"
   ]
  },
  {
   "cell_type": "code",
   "execution_count": null,
   "id": "1ec9a5c1",
   "metadata": {},
   "outputs": [],
   "source": [
    "f=a.get(23)"
   ]
  },
  {
   "cell_type": "code",
   "execution_count": null,
   "id": "2ab8eb53",
   "metadata": {},
   "outputs": [],
   "source": [
    "print(f,type(f))"
   ]
  },
  {
   "cell_type": "code",
   "execution_count": null,
   "id": "64447e2d",
   "metadata": {},
   "outputs": [],
   "source": [
    "a[2]"
   ]
  },
  {
   "cell_type": "code",
   "execution_count": null,
   "id": "9afc96ae",
   "metadata": {},
   "outputs": [],
   "source": [
    "a = {True:\"Bharat\",\"Anamay\":56,8.4:7+8j,5:\"65\"}"
   ]
  },
  {
   "cell_type": "code",
   "execution_count": null,
   "id": "26971074",
   "metadata": {},
   "outputs": [],
   "source": [
    "a.get(True)"
   ]
  },
  {
   "cell_type": "code",
   "execution_count": null,
   "id": "2e5ad586",
   "metadata": {},
   "outputs": [],
   "source": [
    "a[True]"
   ]
  },
  {
   "cell_type": "code",
   "execution_count": null,
   "id": "28f1048f",
   "metadata": {},
   "outputs": [],
   "source": [
    "a[90]"
   ]
  },
  {
   "cell_type": "code",
   "execution_count": null,
   "id": "9192a202",
   "metadata": {},
   "outputs": [],
   "source": [
    "a.get(\"Krishna\")"
   ]
  },
  {
   "cell_type": "code",
   "execution_count": null,
   "id": "7db51ab4",
   "metadata": {},
   "outputs": [],
   "source": [
    "a.keys()    # to get values of all keys in dict"
   ]
  },
  {
   "cell_type": "code",
   "execution_count": null,
   "id": "d4c1b5cf",
   "metadata": {},
   "outputs": [],
   "source": [
    "a.values()    # to get values of all values in dict"
   ]
  },
  {
   "cell_type": "code",
   "execution_count": null,
   "id": "7ad7618b",
   "metadata": {},
   "outputs": [],
   "source": [
    "a.items()    #will give key value pair in form of list of tumples"
   ]
  },
  {
   "cell_type": "code",
   "execution_count": null,
   "id": "9f9aa92a",
   "metadata": {},
   "outputs": [],
   "source": [
    "a[6]=\"krishna\""
   ]
  },
  {
   "cell_type": "code",
   "execution_count": null,
   "id": "dc3eb5f1",
   "metadata": {},
   "outputs": [],
   "source": [
    "a"
   ]
  },
  {
   "cell_type": "code",
   "execution_count": null,
   "id": "6cb8d737",
   "metadata": {},
   "outputs": [],
   "source": [
    "b=a.items()"
   ]
  },
  {
   "cell_type": "code",
   "execution_count": null,
   "id": "41d86898",
   "metadata": {},
   "outputs": [],
   "source": [
    "print(b,type(b))"
   ]
  },
  {
   "cell_type": "code",
   "execution_count": null,
   "id": "e5d79891",
   "metadata": {},
   "outputs": [],
   "source": [
    "b = {}"
   ]
  },
  {
   "cell_type": "code",
   "execution_count": null,
   "id": "2ae537e6",
   "metadata": {},
   "outputs": [],
   "source": [
    "b[False]=\"world\""
   ]
  },
  {
   "cell_type": "code",
   "execution_count": null,
   "id": "484f67fb",
   "metadata": {},
   "outputs": [],
   "source": [
    "b[True]=\"Universe\""
   ]
  },
  {
   "cell_type": "code",
   "execution_count": null,
   "id": "fff51c6f",
   "metadata": {},
   "outputs": [],
   "source": [
    "b[\"pen\"]=\"books\""
   ]
  },
  {
   "cell_type": "code",
   "execution_count": null,
   "id": "3896f2ca",
   "metadata": {},
   "outputs": [],
   "source": [
    "b"
   ]
  },
  {
   "cell_type": "code",
   "execution_count": null,
   "id": "c2b0d297",
   "metadata": {},
   "outputs": [],
   "source": [
    "a.update(b)"
   ]
  },
  {
   "cell_type": "code",
   "execution_count": null,
   "id": "aae93d1a",
   "metadata": {},
   "outputs": [],
   "source": [
    "print(a)"
   ]
  },
  {
   "cell_type": "code",
   "execution_count": null,
   "id": "2ea6e39f",
   "metadata": {},
   "outputs": [],
   "source": [
    "b"
   ]
  },
  {
   "cell_type": "code",
   "execution_count": null,
   "id": "23021ccd",
   "metadata": {},
   "outputs": [],
   "source": [
    "a[\"karan\"]=\"Arjun\""
   ]
  },
  {
   "cell_type": "code",
   "execution_count": null,
   "id": "4af47059",
   "metadata": {},
   "outputs": [],
   "source": [
    "a"
   ]
  },
  {
   "cell_type": "code",
   "execution_count": null,
   "id": "afa1b95e",
   "metadata": {},
   "outputs": [],
   "source": [
    "a = (1,3,[1,2,4])"
   ]
  },
  {
   "cell_type": "code",
   "execution_count": null,
   "id": "41613bde",
   "metadata": {},
   "outputs": [],
   "source": [
    "a = frozenset(a)"
   ]
  },
  {
   "cell_type": "code",
   "execution_count": null,
   "id": "d30ed878",
   "metadata": {},
   "outputs": [],
   "source": [
    "d = {a:1,\"Priya\":1}"
   ]
  },
  {
   "cell_type": "code",
   "execution_count": null,
   "id": "ad35d182",
   "metadata": {},
   "outputs": [],
   "source": [
    "d"
   ]
  },
  {
   "cell_type": "code",
   "execution_count": null,
   "id": "7baaf7c1",
   "metadata": {},
   "outputs": [],
   "source": [
    "d.get(a)"
   ]
  },
  {
   "cell_type": "code",
   "execution_count": null,
   "id": "0efab500",
   "metadata": {},
   "outputs": [],
   "source": [
    "d.pop(a)"
   ]
  },
  {
   "cell_type": "code",
   "execution_count": null,
   "id": "9a79f0a3",
   "metadata": {},
   "outputs": [],
   "source": [
    "a = range(46,195,2)"
   ]
  },
  {
   "cell_type": "code",
   "execution_count": null,
   "id": "905b89fc",
   "metadata": {},
   "outputs": [],
   "source": [
    "l = []\n",
    "for i in a:\n",
    "    print(i)"
   ]
  },
  {
   "cell_type": "code",
   "execution_count": null,
   "id": "79fa3c22",
   "metadata": {},
   "outputs": [],
   "source": [
    "print(l)"
   ]
  },
  {
   "cell_type": "code",
   "execution_count": null,
   "id": "9e33df1f",
   "metadata": {},
   "outputs": [],
   "source": []
  }
 ],
 "metadata": {
  "kernelspec": {
   "display_name": "Python 3 (ipykernel)",
   "language": "python",
   "name": "python3"
  },
  "language_info": {
   "codemirror_mode": {
    "name": "ipython",
    "version": 3
   },
   "file_extension": ".py",
   "mimetype": "text/x-python",
   "name": "python",
   "nbconvert_exporter": "python",
   "pygments_lexer": "ipython3",
   "version": "3.11.3"
  }
 },
 "nbformat": 4,
 "nbformat_minor": 5
}
